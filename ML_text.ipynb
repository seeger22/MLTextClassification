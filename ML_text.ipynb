{
  "nbformat": 4,
  "nbformat_minor": 0,
  "metadata": {
    "colab": {
      "provenance": [],
      "collapsed_sections": [
        "Bv3KIPxxIlfD",
        "EhIdXv3LhOxL",
        "6Gec13R9H2_8",
        "8DmNvyG3Nv__",
        "WfN_W_LfNzE4",
        "YyFb9-qjN2Kx",
        "ZwygQSVPN3-n",
        "vv7q-ysqN6Pv",
        "gk5gU8c1H6gI",
        "ETXFgm2Zt1hu",
        "rXgokgn9UdD7",
        "gGC_sS3gVzW5",
        "23OoHaq3ZFgy",
        "obYf_Y50y3fs",
        "hIsnNZKjiQ84",
        "byVjY0qhiYMQ"
      ]
    },
    "kernelspec": {
      "name": "python3",
      "display_name": "Python 3"
    },
    "language_info": {
      "name": "python"
    },
    "widgets": {
      "application/vnd.jupyter.widget-state+json": {
        "66e3787bb2a3443d82b1ba2339a717bf": {
          "model_module": "@jupyter-widgets/controls",
          "model_name": "HBoxModel",
          "model_module_version": "1.5.0",
          "state": {
            "_dom_classes": [],
            "_model_module": "@jupyter-widgets/controls",
            "_model_module_version": "1.5.0",
            "_model_name": "HBoxModel",
            "_view_count": null,
            "_view_module": "@jupyter-widgets/controls",
            "_view_module_version": "1.5.0",
            "_view_name": "HBoxView",
            "box_style": "",
            "children": [
              "IPY_MODEL_3cfaf57df9444a7389e8df2a16a48d8c",
              "IPY_MODEL_3221ab27628d4be49f84ab002e800866",
              "IPY_MODEL_bb1686ff192544c8b2943c508a84775f"
            ],
            "layout": "IPY_MODEL_fa993f036617404d9da11873eccc2a09"
          }
        },
        "3cfaf57df9444a7389e8df2a16a48d8c": {
          "model_module": "@jupyter-widgets/controls",
          "model_name": "HTMLModel",
          "model_module_version": "1.5.0",
          "state": {
            "_dom_classes": [],
            "_model_module": "@jupyter-widgets/controls",
            "_model_module_version": "1.5.0",
            "_model_name": "HTMLModel",
            "_view_count": null,
            "_view_module": "@jupyter-widgets/controls",
            "_view_module_version": "1.5.0",
            "_view_name": "HTMLView",
            "description": "",
            "description_tooltip": null,
            "layout": "IPY_MODEL_5b25df86c6ca43438028c177155ea5a8",
            "placeholder": "​",
            "style": "IPY_MODEL_ec681aa00e1842f196b606a7ff5176af",
            "value": "Downloading: 100%"
          }
        },
        "3221ab27628d4be49f84ab002e800866": {
          "model_module": "@jupyter-widgets/controls",
          "model_name": "FloatProgressModel",
          "model_module_version": "1.5.0",
          "state": {
            "_dom_classes": [],
            "_model_module": "@jupyter-widgets/controls",
            "_model_module_version": "1.5.0",
            "_model_name": "FloatProgressModel",
            "_view_count": null,
            "_view_module": "@jupyter-widgets/controls",
            "_view_module_version": "1.5.0",
            "_view_name": "ProgressView",
            "bar_style": "success",
            "description": "",
            "description_tooltip": null,
            "layout": "IPY_MODEL_87c4c226aff04e2bb377ee7c7d9a558f",
            "max": 570,
            "min": 0,
            "orientation": "horizontal",
            "style": "IPY_MODEL_6456506c5947487997abff4d91525cfa",
            "value": 570
          }
        },
        "bb1686ff192544c8b2943c508a84775f": {
          "model_module": "@jupyter-widgets/controls",
          "model_name": "HTMLModel",
          "model_module_version": "1.5.0",
          "state": {
            "_dom_classes": [],
            "_model_module": "@jupyter-widgets/controls",
            "_model_module_version": "1.5.0",
            "_model_name": "HTMLModel",
            "_view_count": null,
            "_view_module": "@jupyter-widgets/controls",
            "_view_module_version": "1.5.0",
            "_view_name": "HTMLView",
            "description": "",
            "description_tooltip": null,
            "layout": "IPY_MODEL_188959f64f8a4dfd9f426bca7d560b89",
            "placeholder": "​",
            "style": "IPY_MODEL_9260b92f857e4efa83b2b4f781fedea5",
            "value": " 570/570 [00:00&lt;00:00, 14.8kB/s]"
          }
        },
        "fa993f036617404d9da11873eccc2a09": {
          "model_module": "@jupyter-widgets/base",
          "model_name": "LayoutModel",
          "model_module_version": "1.2.0",
          "state": {
            "_model_module": "@jupyter-widgets/base",
            "_model_module_version": "1.2.0",
            "_model_name": "LayoutModel",
            "_view_count": null,
            "_view_module": "@jupyter-widgets/base",
            "_view_module_version": "1.2.0",
            "_view_name": "LayoutView",
            "align_content": null,
            "align_items": null,
            "align_self": null,
            "border": null,
            "bottom": null,
            "display": null,
            "flex": null,
            "flex_flow": null,
            "grid_area": null,
            "grid_auto_columns": null,
            "grid_auto_flow": null,
            "grid_auto_rows": null,
            "grid_column": null,
            "grid_gap": null,
            "grid_row": null,
            "grid_template_areas": null,
            "grid_template_columns": null,
            "grid_template_rows": null,
            "height": null,
            "justify_content": null,
            "justify_items": null,
            "left": null,
            "margin": null,
            "max_height": null,
            "max_width": null,
            "min_height": null,
            "min_width": null,
            "object_fit": null,
            "object_position": null,
            "order": null,
            "overflow": null,
            "overflow_x": null,
            "overflow_y": null,
            "padding": null,
            "right": null,
            "top": null,
            "visibility": null,
            "width": null
          }
        },
        "5b25df86c6ca43438028c177155ea5a8": {
          "model_module": "@jupyter-widgets/base",
          "model_name": "LayoutModel",
          "model_module_version": "1.2.0",
          "state": {
            "_model_module": "@jupyter-widgets/base",
            "_model_module_version": "1.2.0",
            "_model_name": "LayoutModel",
            "_view_count": null,
            "_view_module": "@jupyter-widgets/base",
            "_view_module_version": "1.2.0",
            "_view_name": "LayoutView",
            "align_content": null,
            "align_items": null,
            "align_self": null,
            "border": null,
            "bottom": null,
            "display": null,
            "flex": null,
            "flex_flow": null,
            "grid_area": null,
            "grid_auto_columns": null,
            "grid_auto_flow": null,
            "grid_auto_rows": null,
            "grid_column": null,
            "grid_gap": null,
            "grid_row": null,
            "grid_template_areas": null,
            "grid_template_columns": null,
            "grid_template_rows": null,
            "height": null,
            "justify_content": null,
            "justify_items": null,
            "left": null,
            "margin": null,
            "max_height": null,
            "max_width": null,
            "min_height": null,
            "min_width": null,
            "object_fit": null,
            "object_position": null,
            "order": null,
            "overflow": null,
            "overflow_x": null,
            "overflow_y": null,
            "padding": null,
            "right": null,
            "top": null,
            "visibility": null,
            "width": null
          }
        },
        "ec681aa00e1842f196b606a7ff5176af": {
          "model_module": "@jupyter-widgets/controls",
          "model_name": "DescriptionStyleModel",
          "model_module_version": "1.5.0",
          "state": {
            "_model_module": "@jupyter-widgets/controls",
            "_model_module_version": "1.5.0",
            "_model_name": "DescriptionStyleModel",
            "_view_count": null,
            "_view_module": "@jupyter-widgets/base",
            "_view_module_version": "1.2.0",
            "_view_name": "StyleView",
            "description_width": ""
          }
        },
        "87c4c226aff04e2bb377ee7c7d9a558f": {
          "model_module": "@jupyter-widgets/base",
          "model_name": "LayoutModel",
          "model_module_version": "1.2.0",
          "state": {
            "_model_module": "@jupyter-widgets/base",
            "_model_module_version": "1.2.0",
            "_model_name": "LayoutModel",
            "_view_count": null,
            "_view_module": "@jupyter-widgets/base",
            "_view_module_version": "1.2.0",
            "_view_name": "LayoutView",
            "align_content": null,
            "align_items": null,
            "align_self": null,
            "border": null,
            "bottom": null,
            "display": null,
            "flex": null,
            "flex_flow": null,
            "grid_area": null,
            "grid_auto_columns": null,
            "grid_auto_flow": null,
            "grid_auto_rows": null,
            "grid_column": null,
            "grid_gap": null,
            "grid_row": null,
            "grid_template_areas": null,
            "grid_template_columns": null,
            "grid_template_rows": null,
            "height": null,
            "justify_content": null,
            "justify_items": null,
            "left": null,
            "margin": null,
            "max_height": null,
            "max_width": null,
            "min_height": null,
            "min_width": null,
            "object_fit": null,
            "object_position": null,
            "order": null,
            "overflow": null,
            "overflow_x": null,
            "overflow_y": null,
            "padding": null,
            "right": null,
            "top": null,
            "visibility": null,
            "width": null
          }
        },
        "6456506c5947487997abff4d91525cfa": {
          "model_module": "@jupyter-widgets/controls",
          "model_name": "ProgressStyleModel",
          "model_module_version": "1.5.0",
          "state": {
            "_model_module": "@jupyter-widgets/controls",
            "_model_module_version": "1.5.0",
            "_model_name": "ProgressStyleModel",
            "_view_count": null,
            "_view_module": "@jupyter-widgets/base",
            "_view_module_version": "1.2.0",
            "_view_name": "StyleView",
            "bar_color": null,
            "description_width": ""
          }
        },
        "188959f64f8a4dfd9f426bca7d560b89": {
          "model_module": "@jupyter-widgets/base",
          "model_name": "LayoutModel",
          "model_module_version": "1.2.0",
          "state": {
            "_model_module": "@jupyter-widgets/base",
            "_model_module_version": "1.2.0",
            "_model_name": "LayoutModel",
            "_view_count": null,
            "_view_module": "@jupyter-widgets/base",
            "_view_module_version": "1.2.0",
            "_view_name": "LayoutView",
            "align_content": null,
            "align_items": null,
            "align_self": null,
            "border": null,
            "bottom": null,
            "display": null,
            "flex": null,
            "flex_flow": null,
            "grid_area": null,
            "grid_auto_columns": null,
            "grid_auto_flow": null,
            "grid_auto_rows": null,
            "grid_column": null,
            "grid_gap": null,
            "grid_row": null,
            "grid_template_areas": null,
            "grid_template_columns": null,
            "grid_template_rows": null,
            "height": null,
            "justify_content": null,
            "justify_items": null,
            "left": null,
            "margin": null,
            "max_height": null,
            "max_width": null,
            "min_height": null,
            "min_width": null,
            "object_fit": null,
            "object_position": null,
            "order": null,
            "overflow": null,
            "overflow_x": null,
            "overflow_y": null,
            "padding": null,
            "right": null,
            "top": null,
            "visibility": null,
            "width": null
          }
        },
        "9260b92f857e4efa83b2b4f781fedea5": {
          "model_module": "@jupyter-widgets/controls",
          "model_name": "DescriptionStyleModel",
          "model_module_version": "1.5.0",
          "state": {
            "_model_module": "@jupyter-widgets/controls",
            "_model_module_version": "1.5.0",
            "_model_name": "DescriptionStyleModel",
            "_view_count": null,
            "_view_module": "@jupyter-widgets/base",
            "_view_module_version": "1.2.0",
            "_view_name": "StyleView",
            "description_width": ""
          }
        },
        "33b91e600fca4966bd5d0421c6043c83": {
          "model_module": "@jupyter-widgets/controls",
          "model_name": "HBoxModel",
          "model_module_version": "1.5.0",
          "state": {
            "_dom_classes": [],
            "_model_module": "@jupyter-widgets/controls",
            "_model_module_version": "1.5.0",
            "_model_name": "HBoxModel",
            "_view_count": null,
            "_view_module": "@jupyter-widgets/controls",
            "_view_module_version": "1.5.0",
            "_view_name": "HBoxView",
            "box_style": "",
            "children": [
              "IPY_MODEL_da86bd15dd3846ceb5289b51717d7e34",
              "IPY_MODEL_0ec2cf8b4ce94153aa1ae96265528f30",
              "IPY_MODEL_58b4772cc55e430285d76ae3d90b8c31"
            ],
            "layout": "IPY_MODEL_2c18a09909b04ac3a01e20a634abd997"
          }
        },
        "da86bd15dd3846ceb5289b51717d7e34": {
          "model_module": "@jupyter-widgets/controls",
          "model_name": "HTMLModel",
          "model_module_version": "1.5.0",
          "state": {
            "_dom_classes": [],
            "_model_module": "@jupyter-widgets/controls",
            "_model_module_version": "1.5.0",
            "_model_name": "HTMLModel",
            "_view_count": null,
            "_view_module": "@jupyter-widgets/controls",
            "_view_module_version": "1.5.0",
            "_view_name": "HTMLView",
            "description": "",
            "description_tooltip": null,
            "layout": "IPY_MODEL_17f22b07eec6415eae5d6810b010dd47",
            "placeholder": "​",
            "style": "IPY_MODEL_e2164ba8bda84c02a15111439c49f15f",
            "value": "Downloading: 100%"
          }
        },
        "0ec2cf8b4ce94153aa1ae96265528f30": {
          "model_module": "@jupyter-widgets/controls",
          "model_name": "FloatProgressModel",
          "model_module_version": "1.5.0",
          "state": {
            "_dom_classes": [],
            "_model_module": "@jupyter-widgets/controls",
            "_model_module_version": "1.5.0",
            "_model_name": "FloatProgressModel",
            "_view_count": null,
            "_view_module": "@jupyter-widgets/controls",
            "_view_module_version": "1.5.0",
            "_view_name": "ProgressView",
            "bar_style": "success",
            "description": "",
            "description_tooltip": null,
            "layout": "IPY_MODEL_01f6e6988dd54c979e60aa0cdf563db2",
            "max": 28,
            "min": 0,
            "orientation": "horizontal",
            "style": "IPY_MODEL_15cb163577cf4f13a39c4eb9dae6f94a",
            "value": 28
          }
        },
        "58b4772cc55e430285d76ae3d90b8c31": {
          "model_module": "@jupyter-widgets/controls",
          "model_name": "HTMLModel",
          "model_module_version": "1.5.0",
          "state": {
            "_dom_classes": [],
            "_model_module": "@jupyter-widgets/controls",
            "_model_module_version": "1.5.0",
            "_model_name": "HTMLModel",
            "_view_count": null,
            "_view_module": "@jupyter-widgets/controls",
            "_view_module_version": "1.5.0",
            "_view_name": "HTMLView",
            "description": "",
            "description_tooltip": null,
            "layout": "IPY_MODEL_9e54b10eb0ab4b77a11229e47129cbc7",
            "placeholder": "​",
            "style": "IPY_MODEL_dcaf6b9648da4c7ab691e85ab756c4da",
            "value": " 28.0/28.0 [00:00&lt;00:00, 422B/s]"
          }
        },
        "2c18a09909b04ac3a01e20a634abd997": {
          "model_module": "@jupyter-widgets/base",
          "model_name": "LayoutModel",
          "model_module_version": "1.2.0",
          "state": {
            "_model_module": "@jupyter-widgets/base",
            "_model_module_version": "1.2.0",
            "_model_name": "LayoutModel",
            "_view_count": null,
            "_view_module": "@jupyter-widgets/base",
            "_view_module_version": "1.2.0",
            "_view_name": "LayoutView",
            "align_content": null,
            "align_items": null,
            "align_self": null,
            "border": null,
            "bottom": null,
            "display": null,
            "flex": null,
            "flex_flow": null,
            "grid_area": null,
            "grid_auto_columns": null,
            "grid_auto_flow": null,
            "grid_auto_rows": null,
            "grid_column": null,
            "grid_gap": null,
            "grid_row": null,
            "grid_template_areas": null,
            "grid_template_columns": null,
            "grid_template_rows": null,
            "height": null,
            "justify_content": null,
            "justify_items": null,
            "left": null,
            "margin": null,
            "max_height": null,
            "max_width": null,
            "min_height": null,
            "min_width": null,
            "object_fit": null,
            "object_position": null,
            "order": null,
            "overflow": null,
            "overflow_x": null,
            "overflow_y": null,
            "padding": null,
            "right": null,
            "top": null,
            "visibility": null,
            "width": null
          }
        },
        "17f22b07eec6415eae5d6810b010dd47": {
          "model_module": "@jupyter-widgets/base",
          "model_name": "LayoutModel",
          "model_module_version": "1.2.0",
          "state": {
            "_model_module": "@jupyter-widgets/base",
            "_model_module_version": "1.2.0",
            "_model_name": "LayoutModel",
            "_view_count": null,
            "_view_module": "@jupyter-widgets/base",
            "_view_module_version": "1.2.0",
            "_view_name": "LayoutView",
            "align_content": null,
            "align_items": null,
            "align_self": null,
            "border": null,
            "bottom": null,
            "display": null,
            "flex": null,
            "flex_flow": null,
            "grid_area": null,
            "grid_auto_columns": null,
            "grid_auto_flow": null,
            "grid_auto_rows": null,
            "grid_column": null,
            "grid_gap": null,
            "grid_row": null,
            "grid_template_areas": null,
            "grid_template_columns": null,
            "grid_template_rows": null,
            "height": null,
            "justify_content": null,
            "justify_items": null,
            "left": null,
            "margin": null,
            "max_height": null,
            "max_width": null,
            "min_height": null,
            "min_width": null,
            "object_fit": null,
            "object_position": null,
            "order": null,
            "overflow": null,
            "overflow_x": null,
            "overflow_y": null,
            "padding": null,
            "right": null,
            "top": null,
            "visibility": null,
            "width": null
          }
        },
        "e2164ba8bda84c02a15111439c49f15f": {
          "model_module": "@jupyter-widgets/controls",
          "model_name": "DescriptionStyleModel",
          "model_module_version": "1.5.0",
          "state": {
            "_model_module": "@jupyter-widgets/controls",
            "_model_module_version": "1.5.0",
            "_model_name": "DescriptionStyleModel",
            "_view_count": null,
            "_view_module": "@jupyter-widgets/base",
            "_view_module_version": "1.2.0",
            "_view_name": "StyleView",
            "description_width": ""
          }
        },
        "01f6e6988dd54c979e60aa0cdf563db2": {
          "model_module": "@jupyter-widgets/base",
          "model_name": "LayoutModel",
          "model_module_version": "1.2.0",
          "state": {
            "_model_module": "@jupyter-widgets/base",
            "_model_module_version": "1.2.0",
            "_model_name": "LayoutModel",
            "_view_count": null,
            "_view_module": "@jupyter-widgets/base",
            "_view_module_version": "1.2.0",
            "_view_name": "LayoutView",
            "align_content": null,
            "align_items": null,
            "align_self": null,
            "border": null,
            "bottom": null,
            "display": null,
            "flex": null,
            "flex_flow": null,
            "grid_area": null,
            "grid_auto_columns": null,
            "grid_auto_flow": null,
            "grid_auto_rows": null,
            "grid_column": null,
            "grid_gap": null,
            "grid_row": null,
            "grid_template_areas": null,
            "grid_template_columns": null,
            "grid_template_rows": null,
            "height": null,
            "justify_content": null,
            "justify_items": null,
            "left": null,
            "margin": null,
            "max_height": null,
            "max_width": null,
            "min_height": null,
            "min_width": null,
            "object_fit": null,
            "object_position": null,
            "order": null,
            "overflow": null,
            "overflow_x": null,
            "overflow_y": null,
            "padding": null,
            "right": null,
            "top": null,
            "visibility": null,
            "width": null
          }
        },
        "15cb163577cf4f13a39c4eb9dae6f94a": {
          "model_module": "@jupyter-widgets/controls",
          "model_name": "ProgressStyleModel",
          "model_module_version": "1.5.0",
          "state": {
            "_model_module": "@jupyter-widgets/controls",
            "_model_module_version": "1.5.0",
            "_model_name": "ProgressStyleModel",
            "_view_count": null,
            "_view_module": "@jupyter-widgets/base",
            "_view_module_version": "1.2.0",
            "_view_name": "StyleView",
            "bar_color": null,
            "description_width": ""
          }
        },
        "9e54b10eb0ab4b77a11229e47129cbc7": {
          "model_module": "@jupyter-widgets/base",
          "model_name": "LayoutModel",
          "model_module_version": "1.2.0",
          "state": {
            "_model_module": "@jupyter-widgets/base",
            "_model_module_version": "1.2.0",
            "_model_name": "LayoutModel",
            "_view_count": null,
            "_view_module": "@jupyter-widgets/base",
            "_view_module_version": "1.2.0",
            "_view_name": "LayoutView",
            "align_content": null,
            "align_items": null,
            "align_self": null,
            "border": null,
            "bottom": null,
            "display": null,
            "flex": null,
            "flex_flow": null,
            "grid_area": null,
            "grid_auto_columns": null,
            "grid_auto_flow": null,
            "grid_auto_rows": null,
            "grid_column": null,
            "grid_gap": null,
            "grid_row": null,
            "grid_template_areas": null,
            "grid_template_columns": null,
            "grid_template_rows": null,
            "height": null,
            "justify_content": null,
            "justify_items": null,
            "left": null,
            "margin": null,
            "max_height": null,
            "max_width": null,
            "min_height": null,
            "min_width": null,
            "object_fit": null,
            "object_position": null,
            "order": null,
            "overflow": null,
            "overflow_x": null,
            "overflow_y": null,
            "padding": null,
            "right": null,
            "top": null,
            "visibility": null,
            "width": null
          }
        },
        "dcaf6b9648da4c7ab691e85ab756c4da": {
          "model_module": "@jupyter-widgets/controls",
          "model_name": "DescriptionStyleModel",
          "model_module_version": "1.5.0",
          "state": {
            "_model_module": "@jupyter-widgets/controls",
            "_model_module_version": "1.5.0",
            "_model_name": "DescriptionStyleModel",
            "_view_count": null,
            "_view_module": "@jupyter-widgets/base",
            "_view_module_version": "1.2.0",
            "_view_name": "StyleView",
            "description_width": ""
          }
        },
        "36442b9dd79241d6aa3e066bec1ab353": {
          "model_module": "@jupyter-widgets/controls",
          "model_name": "HBoxModel",
          "model_module_version": "1.5.0",
          "state": {
            "_dom_classes": [],
            "_model_module": "@jupyter-widgets/controls",
            "_model_module_version": "1.5.0",
            "_model_name": "HBoxModel",
            "_view_count": null,
            "_view_module": "@jupyter-widgets/controls",
            "_view_module_version": "1.5.0",
            "_view_name": "HBoxView",
            "box_style": "",
            "children": [
              "IPY_MODEL_e5175b69d62b480fb8cf5eac44b2b01c",
              "IPY_MODEL_1972592e160841fc89e97cc0487ebf44",
              "IPY_MODEL_4a8c2f4789a14c3980713e117095378f"
            ],
            "layout": "IPY_MODEL_1aada5c87b7e4e77a0c63a4dddbed09e"
          }
        },
        "e5175b69d62b480fb8cf5eac44b2b01c": {
          "model_module": "@jupyter-widgets/controls",
          "model_name": "HTMLModel",
          "model_module_version": "1.5.0",
          "state": {
            "_dom_classes": [],
            "_model_module": "@jupyter-widgets/controls",
            "_model_module_version": "1.5.0",
            "_model_name": "HTMLModel",
            "_view_count": null,
            "_view_module": "@jupyter-widgets/controls",
            "_view_module_version": "1.5.0",
            "_view_name": "HTMLView",
            "description": "",
            "description_tooltip": null,
            "layout": "IPY_MODEL_34e82861873b4edc826b83c075794bb7",
            "placeholder": "​",
            "style": "IPY_MODEL_a942e00ebb5e408e8a25febea45fc9d9",
            "value": "Downloading: 100%"
          }
        },
        "1972592e160841fc89e97cc0487ebf44": {
          "model_module": "@jupyter-widgets/controls",
          "model_name": "FloatProgressModel",
          "model_module_version": "1.5.0",
          "state": {
            "_dom_classes": [],
            "_model_module": "@jupyter-widgets/controls",
            "_model_module_version": "1.5.0",
            "_model_name": "FloatProgressModel",
            "_view_count": null,
            "_view_module": "@jupyter-widgets/controls",
            "_view_module_version": "1.5.0",
            "_view_name": "ProgressView",
            "bar_style": "success",
            "description": "",
            "description_tooltip": null,
            "layout": "IPY_MODEL_043488b821dd463a91b927395fa5ee12",
            "max": 231508,
            "min": 0,
            "orientation": "horizontal",
            "style": "IPY_MODEL_32201ccb979947fba1ab15b0363e3051",
            "value": 231508
          }
        },
        "4a8c2f4789a14c3980713e117095378f": {
          "model_module": "@jupyter-widgets/controls",
          "model_name": "HTMLModel",
          "model_module_version": "1.5.0",
          "state": {
            "_dom_classes": [],
            "_model_module": "@jupyter-widgets/controls",
            "_model_module_version": "1.5.0",
            "_model_name": "HTMLModel",
            "_view_count": null,
            "_view_module": "@jupyter-widgets/controls",
            "_view_module_version": "1.5.0",
            "_view_name": "HTMLView",
            "description": "",
            "description_tooltip": null,
            "layout": "IPY_MODEL_189c6953f44845dd9a7c2ca1464f6157",
            "placeholder": "​",
            "style": "IPY_MODEL_fd225cd8c79645638b7f1ec728b8b37f",
            "value": " 232k/232k [00:00&lt;00:00, 2.06MB/s]"
          }
        },
        "1aada5c87b7e4e77a0c63a4dddbed09e": {
          "model_module": "@jupyter-widgets/base",
          "model_name": "LayoutModel",
          "model_module_version": "1.2.0",
          "state": {
            "_model_module": "@jupyter-widgets/base",
            "_model_module_version": "1.2.0",
            "_model_name": "LayoutModel",
            "_view_count": null,
            "_view_module": "@jupyter-widgets/base",
            "_view_module_version": "1.2.0",
            "_view_name": "LayoutView",
            "align_content": null,
            "align_items": null,
            "align_self": null,
            "border": null,
            "bottom": null,
            "display": null,
            "flex": null,
            "flex_flow": null,
            "grid_area": null,
            "grid_auto_columns": null,
            "grid_auto_flow": null,
            "grid_auto_rows": null,
            "grid_column": null,
            "grid_gap": null,
            "grid_row": null,
            "grid_template_areas": null,
            "grid_template_columns": null,
            "grid_template_rows": null,
            "height": null,
            "justify_content": null,
            "justify_items": null,
            "left": null,
            "margin": null,
            "max_height": null,
            "max_width": null,
            "min_height": null,
            "min_width": null,
            "object_fit": null,
            "object_position": null,
            "order": null,
            "overflow": null,
            "overflow_x": null,
            "overflow_y": null,
            "padding": null,
            "right": null,
            "top": null,
            "visibility": null,
            "width": null
          }
        },
        "34e82861873b4edc826b83c075794bb7": {
          "model_module": "@jupyter-widgets/base",
          "model_name": "LayoutModel",
          "model_module_version": "1.2.0",
          "state": {
            "_model_module": "@jupyter-widgets/base",
            "_model_module_version": "1.2.0",
            "_model_name": "LayoutModel",
            "_view_count": null,
            "_view_module": "@jupyter-widgets/base",
            "_view_module_version": "1.2.0",
            "_view_name": "LayoutView",
            "align_content": null,
            "align_items": null,
            "align_self": null,
            "border": null,
            "bottom": null,
            "display": null,
            "flex": null,
            "flex_flow": null,
            "grid_area": null,
            "grid_auto_columns": null,
            "grid_auto_flow": null,
            "grid_auto_rows": null,
            "grid_column": null,
            "grid_gap": null,
            "grid_row": null,
            "grid_template_areas": null,
            "grid_template_columns": null,
            "grid_template_rows": null,
            "height": null,
            "justify_content": null,
            "justify_items": null,
            "left": null,
            "margin": null,
            "max_height": null,
            "max_width": null,
            "min_height": null,
            "min_width": null,
            "object_fit": null,
            "object_position": null,
            "order": null,
            "overflow": null,
            "overflow_x": null,
            "overflow_y": null,
            "padding": null,
            "right": null,
            "top": null,
            "visibility": null,
            "width": null
          }
        },
        "a942e00ebb5e408e8a25febea45fc9d9": {
          "model_module": "@jupyter-widgets/controls",
          "model_name": "DescriptionStyleModel",
          "model_module_version": "1.5.0",
          "state": {
            "_model_module": "@jupyter-widgets/controls",
            "_model_module_version": "1.5.0",
            "_model_name": "DescriptionStyleModel",
            "_view_count": null,
            "_view_module": "@jupyter-widgets/base",
            "_view_module_version": "1.2.0",
            "_view_name": "StyleView",
            "description_width": ""
          }
        },
        "043488b821dd463a91b927395fa5ee12": {
          "model_module": "@jupyter-widgets/base",
          "model_name": "LayoutModel",
          "model_module_version": "1.2.0",
          "state": {
            "_model_module": "@jupyter-widgets/base",
            "_model_module_version": "1.2.0",
            "_model_name": "LayoutModel",
            "_view_count": null,
            "_view_module": "@jupyter-widgets/base",
            "_view_module_version": "1.2.0",
            "_view_name": "LayoutView",
            "align_content": null,
            "align_items": null,
            "align_self": null,
            "border": null,
            "bottom": null,
            "display": null,
            "flex": null,
            "flex_flow": null,
            "grid_area": null,
            "grid_auto_columns": null,
            "grid_auto_flow": null,
            "grid_auto_rows": null,
            "grid_column": null,
            "grid_gap": null,
            "grid_row": null,
            "grid_template_areas": null,
            "grid_template_columns": null,
            "grid_template_rows": null,
            "height": null,
            "justify_content": null,
            "justify_items": null,
            "left": null,
            "margin": null,
            "max_height": null,
            "max_width": null,
            "min_height": null,
            "min_width": null,
            "object_fit": null,
            "object_position": null,
            "order": null,
            "overflow": null,
            "overflow_x": null,
            "overflow_y": null,
            "padding": null,
            "right": null,
            "top": null,
            "visibility": null,
            "width": null
          }
        },
        "32201ccb979947fba1ab15b0363e3051": {
          "model_module": "@jupyter-widgets/controls",
          "model_name": "ProgressStyleModel",
          "model_module_version": "1.5.0",
          "state": {
            "_model_module": "@jupyter-widgets/controls",
            "_model_module_version": "1.5.0",
            "_model_name": "ProgressStyleModel",
            "_view_count": null,
            "_view_module": "@jupyter-widgets/base",
            "_view_module_version": "1.2.0",
            "_view_name": "StyleView",
            "bar_color": null,
            "description_width": ""
          }
        },
        "189c6953f44845dd9a7c2ca1464f6157": {
          "model_module": "@jupyter-widgets/base",
          "model_name": "LayoutModel",
          "model_module_version": "1.2.0",
          "state": {
            "_model_module": "@jupyter-widgets/base",
            "_model_module_version": "1.2.0",
            "_model_name": "LayoutModel",
            "_view_count": null,
            "_view_module": "@jupyter-widgets/base",
            "_view_module_version": "1.2.0",
            "_view_name": "LayoutView",
            "align_content": null,
            "align_items": null,
            "align_self": null,
            "border": null,
            "bottom": null,
            "display": null,
            "flex": null,
            "flex_flow": null,
            "grid_area": null,
            "grid_auto_columns": null,
            "grid_auto_flow": null,
            "grid_auto_rows": null,
            "grid_column": null,
            "grid_gap": null,
            "grid_row": null,
            "grid_template_areas": null,
            "grid_template_columns": null,
            "grid_template_rows": null,
            "height": null,
            "justify_content": null,
            "justify_items": null,
            "left": null,
            "margin": null,
            "max_height": null,
            "max_width": null,
            "min_height": null,
            "min_width": null,
            "object_fit": null,
            "object_position": null,
            "order": null,
            "overflow": null,
            "overflow_x": null,
            "overflow_y": null,
            "padding": null,
            "right": null,
            "top": null,
            "visibility": null,
            "width": null
          }
        },
        "fd225cd8c79645638b7f1ec728b8b37f": {
          "model_module": "@jupyter-widgets/controls",
          "model_name": "DescriptionStyleModel",
          "model_module_version": "1.5.0",
          "state": {
            "_model_module": "@jupyter-widgets/controls",
            "_model_module_version": "1.5.0",
            "_model_name": "DescriptionStyleModel",
            "_view_count": null,
            "_view_module": "@jupyter-widgets/base",
            "_view_module_version": "1.2.0",
            "_view_name": "StyleView",
            "description_width": ""
          }
        },
        "29186d5214934c9d875bdd7328daf186": {
          "model_module": "@jupyter-widgets/controls",
          "model_name": "HBoxModel",
          "model_module_version": "1.5.0",
          "state": {
            "_dom_classes": [],
            "_model_module": "@jupyter-widgets/controls",
            "_model_module_version": "1.5.0",
            "_model_name": "HBoxModel",
            "_view_count": null,
            "_view_module": "@jupyter-widgets/controls",
            "_view_module_version": "1.5.0",
            "_view_name": "HBoxView",
            "box_style": "",
            "children": [
              "IPY_MODEL_91701ccc35584b0fb38a1dcef79bc3e0",
              "IPY_MODEL_cfc8f13f6a2d4502b282c5f37da9fb50",
              "IPY_MODEL_2da7d90acbbe472fb308cc5f9c8fd729"
            ],
            "layout": "IPY_MODEL_8aa7be65672843b598ed5ae9c34789ef"
          }
        },
        "91701ccc35584b0fb38a1dcef79bc3e0": {
          "model_module": "@jupyter-widgets/controls",
          "model_name": "HTMLModel",
          "model_module_version": "1.5.0",
          "state": {
            "_dom_classes": [],
            "_model_module": "@jupyter-widgets/controls",
            "_model_module_version": "1.5.0",
            "_model_name": "HTMLModel",
            "_view_count": null,
            "_view_module": "@jupyter-widgets/controls",
            "_view_module_version": "1.5.0",
            "_view_name": "HTMLView",
            "description": "",
            "description_tooltip": null,
            "layout": "IPY_MODEL_3b6763a301bb43ee9f569f73e93c269e",
            "placeholder": "​",
            "style": "IPY_MODEL_70ee87ce64b140658c58565064e195bf",
            "value": "Downloading: 100%"
          }
        },
        "cfc8f13f6a2d4502b282c5f37da9fb50": {
          "model_module": "@jupyter-widgets/controls",
          "model_name": "FloatProgressModel",
          "model_module_version": "1.5.0",
          "state": {
            "_dom_classes": [],
            "_model_module": "@jupyter-widgets/controls",
            "_model_module_version": "1.5.0",
            "_model_name": "FloatProgressModel",
            "_view_count": null,
            "_view_module": "@jupyter-widgets/controls",
            "_view_module_version": "1.5.0",
            "_view_name": "ProgressView",
            "bar_style": "success",
            "description": "",
            "description_tooltip": null,
            "layout": "IPY_MODEL_7ee06f4041ca4fb2be6c28b8c732a626",
            "max": 466062,
            "min": 0,
            "orientation": "horizontal",
            "style": "IPY_MODEL_bc011cbe57f345268c42a22a43ffc0dc",
            "value": 466062
          }
        },
        "2da7d90acbbe472fb308cc5f9c8fd729": {
          "model_module": "@jupyter-widgets/controls",
          "model_name": "HTMLModel",
          "model_module_version": "1.5.0",
          "state": {
            "_dom_classes": [],
            "_model_module": "@jupyter-widgets/controls",
            "_model_module_version": "1.5.0",
            "_model_name": "HTMLModel",
            "_view_count": null,
            "_view_module": "@jupyter-widgets/controls",
            "_view_module_version": "1.5.0",
            "_view_name": "HTMLView",
            "description": "",
            "description_tooltip": null,
            "layout": "IPY_MODEL_74e00b7ef322450fadd0f9a99e37d197",
            "placeholder": "​",
            "style": "IPY_MODEL_77f72a87c60042e8b065549592a6868b",
            "value": " 466k/466k [00:00&lt;00:00, 1.87MB/s]"
          }
        },
        "8aa7be65672843b598ed5ae9c34789ef": {
          "model_module": "@jupyter-widgets/base",
          "model_name": "LayoutModel",
          "model_module_version": "1.2.0",
          "state": {
            "_model_module": "@jupyter-widgets/base",
            "_model_module_version": "1.2.0",
            "_model_name": "LayoutModel",
            "_view_count": null,
            "_view_module": "@jupyter-widgets/base",
            "_view_module_version": "1.2.0",
            "_view_name": "LayoutView",
            "align_content": null,
            "align_items": null,
            "align_self": null,
            "border": null,
            "bottom": null,
            "display": null,
            "flex": null,
            "flex_flow": null,
            "grid_area": null,
            "grid_auto_columns": null,
            "grid_auto_flow": null,
            "grid_auto_rows": null,
            "grid_column": null,
            "grid_gap": null,
            "grid_row": null,
            "grid_template_areas": null,
            "grid_template_columns": null,
            "grid_template_rows": null,
            "height": null,
            "justify_content": null,
            "justify_items": null,
            "left": null,
            "margin": null,
            "max_height": null,
            "max_width": null,
            "min_height": null,
            "min_width": null,
            "object_fit": null,
            "object_position": null,
            "order": null,
            "overflow": null,
            "overflow_x": null,
            "overflow_y": null,
            "padding": null,
            "right": null,
            "top": null,
            "visibility": null,
            "width": null
          }
        },
        "3b6763a301bb43ee9f569f73e93c269e": {
          "model_module": "@jupyter-widgets/base",
          "model_name": "LayoutModel",
          "model_module_version": "1.2.0",
          "state": {
            "_model_module": "@jupyter-widgets/base",
            "_model_module_version": "1.2.0",
            "_model_name": "LayoutModel",
            "_view_count": null,
            "_view_module": "@jupyter-widgets/base",
            "_view_module_version": "1.2.0",
            "_view_name": "LayoutView",
            "align_content": null,
            "align_items": null,
            "align_self": null,
            "border": null,
            "bottom": null,
            "display": null,
            "flex": null,
            "flex_flow": null,
            "grid_area": null,
            "grid_auto_columns": null,
            "grid_auto_flow": null,
            "grid_auto_rows": null,
            "grid_column": null,
            "grid_gap": null,
            "grid_row": null,
            "grid_template_areas": null,
            "grid_template_columns": null,
            "grid_template_rows": null,
            "height": null,
            "justify_content": null,
            "justify_items": null,
            "left": null,
            "margin": null,
            "max_height": null,
            "max_width": null,
            "min_height": null,
            "min_width": null,
            "object_fit": null,
            "object_position": null,
            "order": null,
            "overflow": null,
            "overflow_x": null,
            "overflow_y": null,
            "padding": null,
            "right": null,
            "top": null,
            "visibility": null,
            "width": null
          }
        },
        "70ee87ce64b140658c58565064e195bf": {
          "model_module": "@jupyter-widgets/controls",
          "model_name": "DescriptionStyleModel",
          "model_module_version": "1.5.0",
          "state": {
            "_model_module": "@jupyter-widgets/controls",
            "_model_module_version": "1.5.0",
            "_model_name": "DescriptionStyleModel",
            "_view_count": null,
            "_view_module": "@jupyter-widgets/base",
            "_view_module_version": "1.2.0",
            "_view_name": "StyleView",
            "description_width": ""
          }
        },
        "7ee06f4041ca4fb2be6c28b8c732a626": {
          "model_module": "@jupyter-widgets/base",
          "model_name": "LayoutModel",
          "model_module_version": "1.2.0",
          "state": {
            "_model_module": "@jupyter-widgets/base",
            "_model_module_version": "1.2.0",
            "_model_name": "LayoutModel",
            "_view_count": null,
            "_view_module": "@jupyter-widgets/base",
            "_view_module_version": "1.2.0",
            "_view_name": "LayoutView",
            "align_content": null,
            "align_items": null,
            "align_self": null,
            "border": null,
            "bottom": null,
            "display": null,
            "flex": null,
            "flex_flow": null,
            "grid_area": null,
            "grid_auto_columns": null,
            "grid_auto_flow": null,
            "grid_auto_rows": null,
            "grid_column": null,
            "grid_gap": null,
            "grid_row": null,
            "grid_template_areas": null,
            "grid_template_columns": null,
            "grid_template_rows": null,
            "height": null,
            "justify_content": null,
            "justify_items": null,
            "left": null,
            "margin": null,
            "max_height": null,
            "max_width": null,
            "min_height": null,
            "min_width": null,
            "object_fit": null,
            "object_position": null,
            "order": null,
            "overflow": null,
            "overflow_x": null,
            "overflow_y": null,
            "padding": null,
            "right": null,
            "top": null,
            "visibility": null,
            "width": null
          }
        },
        "bc011cbe57f345268c42a22a43ffc0dc": {
          "model_module": "@jupyter-widgets/controls",
          "model_name": "ProgressStyleModel",
          "model_module_version": "1.5.0",
          "state": {
            "_model_module": "@jupyter-widgets/controls",
            "_model_module_version": "1.5.0",
            "_model_name": "ProgressStyleModel",
            "_view_count": null,
            "_view_module": "@jupyter-widgets/base",
            "_view_module_version": "1.2.0",
            "_view_name": "StyleView",
            "bar_color": null,
            "description_width": ""
          }
        },
        "74e00b7ef322450fadd0f9a99e37d197": {
          "model_module": "@jupyter-widgets/base",
          "model_name": "LayoutModel",
          "model_module_version": "1.2.0",
          "state": {
            "_model_module": "@jupyter-widgets/base",
            "_model_module_version": "1.2.0",
            "_model_name": "LayoutModel",
            "_view_count": null,
            "_view_module": "@jupyter-widgets/base",
            "_view_module_version": "1.2.0",
            "_view_name": "LayoutView",
            "align_content": null,
            "align_items": null,
            "align_self": null,
            "border": null,
            "bottom": null,
            "display": null,
            "flex": null,
            "flex_flow": null,
            "grid_area": null,
            "grid_auto_columns": null,
            "grid_auto_flow": null,
            "grid_auto_rows": null,
            "grid_column": null,
            "grid_gap": null,
            "grid_row": null,
            "grid_template_areas": null,
            "grid_template_columns": null,
            "grid_template_rows": null,
            "height": null,
            "justify_content": null,
            "justify_items": null,
            "left": null,
            "margin": null,
            "max_height": null,
            "max_width": null,
            "min_height": null,
            "min_width": null,
            "object_fit": null,
            "object_position": null,
            "order": null,
            "overflow": null,
            "overflow_x": null,
            "overflow_y": null,
            "padding": null,
            "right": null,
            "top": null,
            "visibility": null,
            "width": null
          }
        },
        "77f72a87c60042e8b065549592a6868b": {
          "model_module": "@jupyter-widgets/controls",
          "model_name": "DescriptionStyleModel",
          "model_module_version": "1.5.0",
          "state": {
            "_model_module": "@jupyter-widgets/controls",
            "_model_module_version": "1.5.0",
            "_model_name": "DescriptionStyleModel",
            "_view_count": null,
            "_view_module": "@jupyter-widgets/base",
            "_view_module_version": "1.2.0",
            "_view_name": "StyleView",
            "description_width": ""
          }
        }
      }
    }
  },
  "cells": [
    {
      "cell_type": "markdown",
      "source": [
        "NOTE A TYPO: technically everything that is called \"test\" on this document is validation, since we are using the result to choose the best model, which introduces bias."
      ],
      "metadata": {
        "id": "jV855fByRwp3"
      }
    },
    {
      "cell_type": "code",
      "execution_count": null,
      "metadata": {
        "id": "8xbKtcxbMYeP"
      },
      "outputs": [],
      "source": [
        "# Seeger Zou\n",
        "from google.colab import drive\n",
        "drive.mount('/content/drive')"
      ]
    },
    {
      "cell_type": "code",
      "source": [
        "%cd drive/MyDrive/Fall22/ML/project/"
      ],
      "metadata": {
        "id": "pvi4s-XpNBy6",
        "colab": {
          "base_uri": "https://localhost:8080/"
        },
        "outputId": "79dc530d-b0df-4805-b638-e4d874caa332"
      },
      "execution_count": 2,
      "outputs": [
        {
          "output_type": "stream",
          "name": "stdout",
          "text": [
            "/content/drive/MyDrive/Fall22/ML/project\n"
          ]
        }
      ]
    },
    {
      "cell_type": "code",
      "source": [
        "# utilities\n",
        "import matplotlib\n",
        "import matplotlib.pyplot as plt\n",
        "import numpy as np\n",
        "import pandas as pd\n",
        "import json\n",
        "import logging\n",
        "import scipy\n",
        "\n",
        "# sklearn\n",
        "import sklearn\n",
        "from sklearn.feature_extraction.text import CountVectorizer, TfidfVectorizer\n",
        "from sklearn.linear_model import LogisticRegression\n",
        "from sklearn import preprocessing\n",
        "from sklearn import svm\n",
        "from sklearn import metrics\n",
        "from sklearn.kernel_approximation import Nystroem\n",
        "\n",
        "# tensorflow for neural networks\n",
        "import tensorflow as tf\n",
        "from tensorflow.keras import regularizers\n",
        "from tensorflow.keras.preprocessing.sequence import pad_sequences"
      ],
      "metadata": {
        "id": "tnLGt-HCMo2q"
      },
      "execution_count": 51,
      "outputs": []
    },
    {
      "cell_type": "markdown",
      "source": [
        "## Helper function for plotting"
      ],
      "metadata": {
        "id": "Bv3KIPxxIlfD"
      }
    },
    {
      "cell_type": "code",
      "source": [
        "from sklearn.svm import SVC\n",
        "from sklearn.datasets import load_digits\n",
        "from sklearn.model_selection import learning_curve\n",
        "from sklearn.model_selection import ShuffleSplit\n",
        "\n",
        "def plot_learning_curve(\n",
        "    estimator,\n",
        "    title,\n",
        "    X,\n",
        "    y,\n",
        "    axes=None,\n",
        "    ylim=None,\n",
        "    cv=None,\n",
        "    n_jobs=None,\n",
        "    scoring=None,\n",
        "    train_sizes=np.linspace(0.1, 1.0, 5),\n",
        "):\n",
        "    \"\"\"\n",
        "    Generate 3 plots: the test and training learning curve, the training\n",
        "    samples vs fit times curve, the fit times vs score curve.\n",
        "\n",
        "    Parameters\n",
        "    ----------\n",
        "    estimator : estimator instance\n",
        "        An estimator instance implementing `fit` and `predict` methods which\n",
        "        will be cloned for each validation.\n",
        "\n",
        "    title : str\n",
        "        Title for the chart.\n",
        "\n",
        "    X : array-like of shape (n_samples, n_features)\n",
        "        Training vector, where ``n_samples`` is the number of samples and\n",
        "        ``n_features`` is the number of features.\n",
        "\n",
        "    y : array-like of shape (n_samples) or (n_samples, n_features)\n",
        "        Target relative to ``X`` for classification or regression;\n",
        "        None for unsupervised learning.\n",
        "\n",
        "    axes : array-like of shape (3,), default=None\n",
        "        Axes to use for plotting the curves.\n",
        "\n",
        "    ylim : tuple of shape (2,), default=None\n",
        "        Defines minimum and maximum y-values plotted, e.g. (ymin, ymax).\n",
        "\n",
        "    cv : int, cross-validation generator or an iterable, default=None\n",
        "        Determines the cross-validation splitting strategy.\n",
        "        Possible inputs for cv are:\n",
        "\n",
        "          - None, to use the default 5-fold cross-validation,\n",
        "          - integer, to specify the number of folds.\n",
        "          - :term:`CV splitter`,\n",
        "          - An iterable yielding (train, test) splits as arrays of indices.\n",
        "\n",
        "        For integer/None inputs, if ``y`` is binary or multiclass,\n",
        "        :class:`StratifiedKFold` used. If the estimator is not a classifier\n",
        "        or if ``y`` is neither binary nor multiclass, :class:`KFold` is used.\n",
        "\n",
        "        Refer :ref:`User Guide <cross_validation>` for the various\n",
        "        cross-validators that can be used here.\n",
        "\n",
        "    n_jobs : int or None, default=None\n",
        "        Number of jobs to run in parallel.\n",
        "        ``None`` means 1 unless in a :obj:`joblib.parallel_backend` context.\n",
        "        ``-1`` means using all processors. See :term:`Glossary <n_jobs>`\n",
        "        for more details.\n",
        "\n",
        "    scoring : str or callable, default=None\n",
        "        A str (see model evaluation documentation) or\n",
        "        a scorer callable object / function with signature\n",
        "        ``scorer(estimator, X, y)``.\n",
        "\n",
        "    train_sizes : array-like of shape (n_ticks,)\n",
        "        Relative or absolute numbers of training examples that will be used to\n",
        "        generate the learning curve. If the ``dtype`` is float, it is regarded\n",
        "        as a fraction of the maximum size of the training set (that is\n",
        "        determined by the selected validation method), i.e. it has to be within\n",
        "        (0, 1]. Otherwise it is interpreted as absolute sizes of the training\n",
        "        sets. Note that for classification the number of samples usually have\n",
        "        to be big enough to contain at least one sample from each class.\n",
        "        (default: np.linspace(0.1, 1.0, 5))\n",
        "    \"\"\"\n",
        "    if axes is None:\n",
        "        _, axes = plt.subplots(1, 3, figsize=(20, 5))\n",
        "\n",
        "    axes[0].set_title(title)\n",
        "    if ylim is not None:\n",
        "        axes[0].set_ylim(*ylim)\n",
        "    axes[0].set_xlabel(\"Training examples\")\n",
        "    axes[0].set_ylabel(\"Score\")\n",
        "\n",
        "    train_sizes, train_scores, test_scores, fit_times, _ = learning_curve(\n",
        "        estimator,\n",
        "        X,\n",
        "        y,\n",
        "        scoring=scoring,\n",
        "        cv=cv,\n",
        "        n_jobs=n_jobs,\n",
        "        train_sizes=train_sizes,\n",
        "        return_times=True,\n",
        "    )\n",
        "    train_scores_mean = np.mean(train_scores, axis=1)\n",
        "    train_scores_std = np.std(train_scores, axis=1)\n",
        "    test_scores_mean = np.mean(test_scores, axis=1)\n",
        "    test_scores_std = np.std(test_scores, axis=1)\n",
        "    fit_times_mean = np.mean(fit_times, axis=1)\n",
        "    fit_times_std = np.std(fit_times, axis=1)\n",
        "\n",
        "    # Plot learning curve\n",
        "    axes[0].grid()\n",
        "    axes[0].fill_between(\n",
        "        train_sizes,\n",
        "        train_scores_mean - train_scores_std,\n",
        "        train_scores_mean + train_scores_std,\n",
        "        alpha=0.1,\n",
        "        color=\"r\",\n",
        "    )\n",
        "    axes[0].fill_between(\n",
        "        train_sizes,\n",
        "        test_scores_mean - test_scores_std,\n",
        "        test_scores_mean + test_scores_std,\n",
        "        alpha=0.1,\n",
        "        color=\"g\",\n",
        "    )\n",
        "    axes[0].plot(\n",
        "        train_sizes, train_scores_mean, \"o-\", color=\"r\", label=\"Training score\"\n",
        "    )\n",
        "    axes[0].plot(\n",
        "        train_sizes, test_scores_mean, \"o-\", color=\"g\", label=\"Cross-validation score\"\n",
        "    )\n",
        "    axes[0].legend(loc=\"best\")\n",
        "\n",
        "    # Plot n_samples vs fit_times\n",
        "    axes[1].grid()\n",
        "    axes[1].plot(train_sizes, fit_times_mean, \"o-\")\n",
        "    axes[1].fill_between(\n",
        "        train_sizes,\n",
        "        fit_times_mean - fit_times_std,\n",
        "        fit_times_mean + fit_times_std,\n",
        "        alpha=0.1,\n",
        "    )\n",
        "    axes[1].set_xlabel(\"Training examples\")\n",
        "    axes[1].set_ylabel(\"fit_times\")\n",
        "    axes[1].set_title(\"Scalability of the model\")\n",
        "\n",
        "    # Plot fit_time vs score\n",
        "    fit_time_argsort = fit_times_mean.argsort()\n",
        "    fit_time_sorted = fit_times_mean[fit_time_argsort]\n",
        "    test_scores_mean_sorted = test_scores_mean[fit_time_argsort]\n",
        "    test_scores_std_sorted = test_scores_std[fit_time_argsort]\n",
        "    axes[2].grid()\n",
        "    axes[2].plot(fit_time_sorted, test_scores_mean_sorted, \"o-\")\n",
        "    axes[2].fill_between(\n",
        "        fit_time_sorted,\n",
        "        test_scores_mean_sorted - test_scores_std_sorted,\n",
        "        test_scores_mean_sorted + test_scores_std_sorted,\n",
        "        alpha=0.1,\n",
        "    )\n",
        "    axes[2].set_xlabel(\"fit_times\")\n",
        "    axes[2].set_ylabel(\"Score\")\n",
        "    axes[2].set_title(\"Performance of the model\")\n",
        "\n",
        "    return plt"
      ],
      "metadata": {
        "id": "L-cNvxmwIoSu"
      },
      "execution_count": 52,
      "outputs": []
    },
    {
      "cell_type": "markdown",
      "source": [
        "## Prepare dataset"
      ],
      "metadata": {
        "id": "xVFtNXqUJhVu"
      }
    },
    {
      "cell_type": "markdown",
      "source": [
        "### Looking at the dataset"
      ],
      "metadata": {
        "id": "4Bcz3TZVLB4Y"
      }
    },
    {
      "cell_type": "code",
      "source": [
        "!egrep -c false classifier_examples_test.json\n",
        "!egrep -c true classifier_examples_test.json # 53646 total\n",
        "# 4:6 false:true"
      ],
      "metadata": {
        "colab": {
          "base_uri": "https://localhost:8080/"
        },
        "id": "ptVtFkiYJg-N",
        "outputId": "15790470-4447-494b-941f-0df8bcc7814b"
      },
      "execution_count": 4,
      "outputs": [
        {
          "output_type": "stream",
          "name": "stdout",
          "text": [
            "22100\n",
            "31546\n"
          ]
        }
      ]
    },
    {
      "cell_type": "code",
      "source": [
        "!egrep -c false classifier_examples_train.json\n",
        "!egrep -c true classifier_examples_train.json # 482817 total\n",
        "# 536463 examples for both train and test, 9: 1"
      ],
      "metadata": {
        "colab": {
          "base_uri": "https://localhost:8080/"
        },
        "id": "4kvgVLFGK2su",
        "outputId": "3e991d06-b5cb-425b-9af7-7dcb7383b225"
      },
      "execution_count": 5,
      "outputs": [
        {
          "output_type": "stream",
          "name": "stdout",
          "text": [
            "197910\n",
            "284907\n"
          ]
        }
      ]
    },
    {
      "cell_type": "markdown",
      "source": [
        "Total 536463 examples, Class balance:\\\n",
        "220010 false\\\n",
        "316453 true\\\n",
        "4:6\n"
      ],
      "metadata": {
        "id": "jerY7nxqM07J"
      }
    },
    {
      "cell_type": "code",
      "source": [
        "plt.rcdefaults()\n",
        "fig, ax = plt.subplots()\n",
        "cat = ['True', 'False']\n",
        "pos = np.arange(len(cat))\n",
        "data = [316453, 220010]\n",
        "ax.barh(cat, data, align='center')\n",
        "ax.invert_yaxis()\n",
        "ax.set_xlabel('# of examples')\n",
        "ax.set_title('Class Balance')"
      ],
      "metadata": {
        "colab": {
          "base_uri": "https://localhost:8080/",
          "height": 490
        },
        "id": "S3o6fApwLFth",
        "outputId": "96d827c6-abc7-4562-b833-e8d50cab2f25"
      },
      "execution_count": 15,
      "outputs": [
        {
          "output_type": "execute_result",
          "data": {
            "text/plain": [
              "Text(0.5, 1.0, 'Class Balance')"
            ]
          },
          "metadata": {},
          "execution_count": 15
        },
        {
          "output_type": "display_data",
          "data": {
            "text/plain": [
              "<Figure size 640x480 with 1 Axes>"
            ],
            "image/png": "[encoded data removed]"
          },
          "metadata": {}
        }
      ]
    },
    {
      "cell_type": "code",
      "source": [
        "!ls -lrt"
      ],
      "metadata": {
        "colab": {
          "base_uri": "https://localhost:8080/"
        },
        "id": "vGOH90g8XloO",
        "outputId": "fad0901c-1abe-4a02-83e5-a0da2dfda6db"
      },
      "execution_count": null,
      "outputs": [
        {
          "output_type": "stream",
          "name": "stdout",
          "text": [
            "total 76437\n",
            "-rw------- 1 root root  7811063 Jul 26  2021 classifier_examples_train.json\n",
            "-rw------- 1 root root 70408113 Jul 26  2021 classifier_examples_test.json\n",
            "-rw------- 1 root root    30929 Jul 28  2021 glue.py\n",
            "-rw------- 1 root root    19463 Jul 28  2021 run_glue_no_trainer.py\n",
            "-rw------- 1 root root        0 Jul 28  2021 log_train_glue_6046456_4294967294.out\n",
            "-rw------- 1 root root      227 Jul 28  2021 log_train_glue_6046456_4294967294.err\n"
          ]
        }
      ]
    },
    {
      "cell_type": "code",
      "source": [
        "ftrain = open(\"classifier_examples_train.json\")\n",
        "ftest = open(\"classifier_examples_test.json\")\n",
        "trainfile = json.load(ftrain)\n",
        "testfile = json.load(ftest)\n",
        "\n",
        "trainfile[0]"
      ],
      "metadata": {
        "colab": {
          "base_uri": "https://localhost:8080/"
        },
        "id": "SD6rsOt6ZPTF",
        "outputId": "7a7b1279-ef92-44fa-fe6d-1d6b569f5d31"
      },
      "execution_count": 4,
      "outputs": [
        {
          "output_type": "execute_result",
          "data": {
            "text/plain": [
              "{'title': 'What parking is offered?',\n",
              " 'body': 'It offers off street, street, and validated parking.',\n",
              " 'label': 'true'}"
            ]
          },
          "metadata": {},
          "execution_count": 4
        }
      ]
    },
    {
      "cell_type": "code",
      "source": [
        "X_train = []\n",
        "X_test = []\n",
        "Y_train = []\n",
        "Y_test = []\n",
        "\n",
        "# Encoding\n",
        "for example in trainfile:\n",
        "    X_train.append(example['title'] + ' ' + example['body'])\n",
        "    Y_train.append(1 if example['label'] == 'true' else 0)\n",
        "\n",
        "for example in testfile:\n",
        "    X_test.append(example['title'] + ' ' + example['body'])\n",
        "    Y_test.append(1 if example['label'] == 'true' else 0)\n",
        "\n",
        "X_train[0]"
      ],
      "metadata": {
        "colab": {
          "base_uri": "https://localhost:8080/",
          "height": 36
        },
        "id": "b1z8d88Ocx06",
        "outputId": "5e105d06-8531-4c89-d14d-3a34e520d1af"
      },
      "execution_count": 5,
      "outputs": [
        {
          "output_type": "execute_result",
          "data": {
            "text/plain": [
              "'What parking is offered? It offers off street, street, and validated parking.'"
            ],
            "application/vnd.google.colaboratory.intrinsic+json": {
              "type": "string"
            }
          },
          "metadata": {},
          "execution_count": 5
        }
      ]
    },
    {
      "cell_type": "code",
      "source": [
        "# For time and space complexity, sample 9:1 from 10k examples\n",
        "X_train = X_train[:9000]\n",
        "Y_train = Y_train[:9000]\n",
        "X_test = X_test[:1000]\n",
        "Y_test = Y_test[:1000]\n",
        "\n",
        "X_train[0]"
      ],
      "metadata": {
        "colab": {
          "base_uri": "https://localhost:8080/",
          "height": 36
        },
        "id": "Dm4q9bBwUh1Q",
        "outputId": "7b331a4d-eb34-4635-9af3-7603102ebe32"
      },
      "execution_count": 6,
      "outputs": [
        {
          "output_type": "execute_result",
          "data": {
            "text/plain": [
              "'What parking is offered? It offers off street, street, and validated parking.'"
            ],
            "application/vnd.google.colaboratory.intrinsic+json": {
              "type": "string"
            }
          },
          "metadata": {},
          "execution_count": 6
        }
      ]
    },
    {
      "cell_type": "code",
      "source": [
        "# Checking the distribution in the new sampling\n",
        "true_count = 0\n",
        "false_count = 0\n",
        "\n",
        "for ex in Y_train:\n",
        "    if ex==1:\n",
        "        true_count+=1\n",
        "    else:\n",
        "        false_count+=1\n",
        "print(true_count)\n",
        "print(false_count)"
      ],
      "metadata": {
        "colab": {
          "base_uri": "https://localhost:8080/"
        },
        "id": "YBH8gbq8Fleq",
        "outputId": "be1abae7-ca6c-45a8-d615-4846e3e9c8e1"
      },
      "execution_count": 35,
      "outputs": [
        {
          "output_type": "stream",
          "name": "stdout",
          "text": [
            "5370\n",
            "3630\n"
          ]
        }
      ]
    },
    {
      "cell_type": "code",
      "source": [
        "plt.rcdefaults()\n",
        "fig, ax = plt.subplots()\n",
        "cat = ['True', 'False']\n",
        "pos = np.arange(len(cat))\n",
        "data = [5370, 3630]\n",
        "ax.barh(cat, data, align='center')\n",
        "ax.invert_yaxis()\n",
        "ax.set_xlabel('# of examples')\n",
        "ax.set_title('New Class Balance')"
      ],
      "metadata": {
        "colab": {
          "base_uri": "https://localhost:8080/",
          "height": 490
        },
        "id": "RLRTSqSZGHm-",
        "outputId": "fc52c0ac-eada-4c3d-9a0c-643c68d6f028"
      },
      "execution_count": 37,
      "outputs": [
        {
          "output_type": "execute_result",
          "data": {
            "text/plain": [
              "Text(0.5, 1.0, 'New Class Balance')"
            ]
          },
          "metadata": {},
          "execution_count": 37
        },
        {
          "output_type": "display_data",
          "data": {
            "text/plain": [
              "<Figure size 640x480 with 1 Axes>"
            ],
            "image/png": "[encoded data removed]"
          },
          "metadata": {}
        }
      ]
    },
    {
      "cell_type": "markdown",
      "source": [
        "Still 6:4 true:false"
      ],
      "metadata": {
        "id": "TJ9rb7n8GCUt"
      }
    },
    {
      "cell_type": "markdown",
      "source": [
        "### Feature Extraction/Weighing/Transformation\n",
        "choose 1 below"
      ],
      "metadata": {
        "id": "ko_AGufneOKd"
      }
    },
    {
      "cell_type": "code",
      "source": [
        "# checking\n",
        "len(X_train),len(X_test)"
      ],
      "metadata": {
        "colab": {
          "base_uri": "https://localhost:8080/"
        },
        "id": "sGcgNjS6OR2q",
        "outputId": "c18707f5-87dd-4041-f090-07d8899a8523"
      },
      "execution_count": 230,
      "outputs": [
        {
          "output_type": "execute_result",
          "data": {
            "text/plain": [
              "(9000, 1000)"
            ]
          },
          "metadata": {},
          "execution_count": 230
        }
      ]
    },
    {
      "cell_type": "code",
      "source": [
        "# Binary\n",
        "tokenizer = CountVectorizer(binary=True, max_df = 0.95)"
      ],
      "metadata": {
        "id": "5inZ4yAGeCGz"
      },
      "execution_count": 231,
      "outputs": []
    },
    {
      "cell_type": "code",
      "source": [
        "# Regular counts\n",
        "tokenizer = CountVectorizer(binary=False, max_df = 0.95)"
      ],
      "metadata": {
        "id": "3vz1YO1ngZ5g"
      },
      "execution_count": 95,
      "outputs": []
    },
    {
      "cell_type": "code",
      "source": [
        "# Term frequency idf\n",
        "tokenizer = TfidfVectorizer(use_idf=True, max_df=0.95)"
      ],
      "metadata": {
        "id": "B9d4gpNjgZzc"
      },
      "execution_count": 193,
      "outputs": []
    },
    {
      "cell_type": "markdown",
      "source": [
        "Continue running here:"
      ],
      "metadata": {
        "id": "2tG8t57wgVvW"
      }
    },
    {
      "cell_type": "code",
      "source": [
        "tokenizer.fit(X_train)\n",
        "X_train_tokenized = tokenizer.transform(X_train)\n",
        "X_test_tokenized = tokenizer.transform(X_test)"
      ],
      "metadata": {
        "id": "S2y1O2eXgRVt"
      },
      "execution_count": 232,
      "outputs": []
    },
    {
      "cell_type": "code",
      "source": [
        "# Looking into the tokenized data and the nonzero values\n",
        "for elem in X_train_tokenized[0].toarray()[0]:\n",
        "    if elem.any()!=0:\n",
        "        print(elem)"
      ],
      "metadata": {
        "colab": {
          "base_uri": "https://localhost:8080/"
        },
        "id": "sFXHJOYG0GOB",
        "outputId": "75e05bb4-d1e2-4a2b-c502-f749e8bc73ef"
      },
      "execution_count": 220,
      "outputs": [
        {
          "output_type": "stream",
          "name": "stdout",
          "text": [
            "1\n",
            "1\n",
            "1\n",
            "1\n",
            "1\n",
            "1\n",
            "1\n",
            "1\n",
            "1\n",
            "1\n"
          ]
        }
      ]
    },
    {
      "cell_type": "code",
      "source": [
        "# optional, can check the sparsity of the matrix\n",
        "# X_train_arr = np.array(X_train_tokenized)\n",
        "# sparsity = 1 - np.count_nonzero(X_train_arr)/X_train_arr.size"
      ],
      "metadata": {
        "id": "prhoT7JlsmQ8"
      },
      "execution_count": 64,
      "outputs": []
    },
    {
      "cell_type": "code",
      "source": [
        "# convert sparse to dense matrix for space and time efficiency\n",
        "X_train_tokenized = scipy.sparse.csr_matrix.todense(X_train_tokenized)\n",
        "X_test_tokenized = scipy.sparse.csr_matrix.todense(X_test_tokenized)"
      ],
      "metadata": {
        "id": "snbZZ2vBv7sI"
      },
      "execution_count": 233,
      "outputs": []
    },
    {
      "cell_type": "code",
      "source": [
        "# format\n",
        "X_train_tokenized = np.array(X_train_tokenized)\n",
        "X_test_tokenized = np.array(X_test_tokenized)\n",
        "Y_train = np.array(Y_train)\n",
        "Y_test = np.array(Y_test)"
      ],
      "metadata": {
        "id": "8z64wHBZyqpK"
      },
      "execution_count": 234,
      "outputs": []
    },
    {
      "cell_type": "code",
      "source": [
        "# vocab of the tokenizer\n",
        "tokenizer.vocabulary_"
      ],
      "metadata": {
        "id": "IiO29aiGg9kM"
      },
      "execution_count": null,
      "outputs": []
    },
    {
      "cell_type": "markdown",
      "source": [
        "## Feature Scaling"
      ],
      "metadata": {
        "id": "5DQCdbwY0COi"
      }
    },
    {
      "cell_type": "markdown",
      "source": [
        "Depending on which model and which method of training, some may not converge given this dataset. Feature scaling is sometimes necessary here. Below are some scalers to play around."
      ],
      "metadata": {
        "id": "zeozlFPez2vo"
      }
    },
    {
      "cell_type": "code",
      "source": [
        "# standard scaler\n",
        "scaler = preprocessing.StandardScaler(with_mean=False).fit(X_train_tokenized)"
      ],
      "metadata": {
        "id": "wn2KMixp0BI8"
      },
      "execution_count": 198,
      "outputs": []
    },
    {
      "cell_type": "code",
      "source": [
        "# maxabs scaler, not used\n",
        "scaler = preprocessing.MaxAbsScaler().fit(X_train_tokenized)"
      ],
      "metadata": {
        "id": "PzLd68-C8_of"
      },
      "execution_count": 41,
      "outputs": []
    },
    {
      "cell_type": "markdown",
      "source": [
        "Continue running here after you've chosen your scaler."
      ],
      "metadata": {
        "id": "s8y2Pa8x67L1"
      }
    },
    {
      "cell_type": "code",
      "source": [
        "X_train_tokenized = scaler.transform(X_train_tokenized)\n",
        "X_test_tokenized = scaler.transform(X_test_tokenized)"
      ],
      "metadata": {
        "id": "Ksx1nHR-6-aW"
      },
      "execution_count": 199,
      "outputs": []
    },
    {
      "cell_type": "code",
      "source": [
        "# Looking at data after scaling\n",
        "print(X_train_tokenized)"
      ],
      "metadata": {
        "colab": {
          "base_uri": "https://localhost:8080/"
        },
        "id": "GRv3q4kc7Ksv",
        "outputId": "89775dcc-85d7-429f-ad7e-c5382f9f1cdd"
      },
      "execution_count": 200,
      "outputs": [
        {
          "output_type": "stream",
          "name": "stdout",
          "text": [
            "[[0. 0. 0. ... 0. 0. 0.]\n",
            " [0. 0. 0. ... 0. 0. 0.]\n",
            " [0. 0. 0. ... 0. 0. 0.]\n",
            " ...\n",
            " [0. 0. 0. ... 0. 0. 0.]\n",
            " [0. 0. 0. ... 0. 0. 0.]\n",
            " [0. 0. 0. ... 0. 0. 0.]]\n"
          ]
        }
      ]
    },
    {
      "cell_type": "markdown",
      "source": [
        "## Logistic Regression"
      ],
      "metadata": {
        "id": "EhIdXv3LhOxL"
      }
    },
    {
      "cell_type": "code",
      "source": [
        "log_reg = LogisticRegression(verbose=1, solver='liblinear', random_state=0, C=5, penalty='l2', max_iter=1000)\n",
        "log_model = log_reg.fit(X_train_tokenized,Y_train)"
      ],
      "metadata": {
        "colab": {
          "base_uri": "https://localhost:8080/"
        },
        "id": "E_yaqdU2hR3l",
        "outputId": "b5315aaa-78c9-4f08-bd75-f8bdc137eb09"
      },
      "execution_count": 133,
      "outputs": [
        {
          "output_type": "stream",
          "name": "stdout",
          "text": [
            "[LibLinear]"
          ]
        }
      ]
    },
    {
      "cell_type": "markdown",
      "source": [
        "### Unscaled binary"
      ],
      "metadata": {
        "id": "6Gec13R9H2_8"
      }
    },
    {
      "cell_type": "markdown",
      "source": [
        "liblinear C=0.001 l2 reg max_iter=1000"
      ],
      "metadata": {
        "id": "YECN-iISNaU5"
      }
    },
    {
      "cell_type": "code",
      "source": [
        "pred_test = log_model.predict(X_test_tokenized)\n",
        "print(metrics.classification_report(Y_test,pred_test))"
      ],
      "metadata": {
        "colab": {
          "base_uri": "https://localhost:8080/"
        },
        "id": "0NtxG-y4NZx1",
        "outputId": "2d7d23ee-707e-46d4-9acd-4d9655297914"
      },
      "execution_count": 63,
      "outputs": [
        {
          "output_type": "stream",
          "name": "stdout",
          "text": [
            "              precision    recall  f1-score   support\n",
            "\n",
            "           0       0.74      0.05      0.10       443\n",
            "           1       0.57      0.99      0.72       557\n",
            "\n",
            "    accuracy                           0.57      1000\n",
            "   macro avg       0.65      0.52      0.41      1000\n",
            "weighted avg       0.64      0.57      0.44      1000\n",
            "\n"
          ]
        }
      ]
    },
    {
      "cell_type": "markdown",
      "source": [
        "liblinear C=5 l2 reg max_iter=1000"
      ],
      "metadata": {
        "id": "fqjsSbbdHunN"
      }
    },
    {
      "cell_type": "code",
      "source": [
        "# BEST\n",
        "pred_test = log_model.predict(X_test_tokenized)\n",
        "print(metrics.classification_report(Y_test,pred_test))"
      ],
      "metadata": {
        "colab": {
          "base_uri": "https://localhost:8080/"
        },
        "id": "6Z5W4tF9L0yu",
        "outputId": "a6094ecd-93a8-48ea-c215-4bd83352475e"
      },
      "execution_count": 54,
      "outputs": [
        {
          "output_type": "stream",
          "name": "stdout",
          "text": [
            "              precision    recall  f1-score   support\n",
            "\n",
            "           0       0.92      0.77      0.84       443\n",
            "           1       0.84      0.95      0.89       557\n",
            "\n",
            "    accuracy                           0.87      1000\n",
            "   macro avg       0.88      0.86      0.86      1000\n",
            "weighted avg       0.88      0.87      0.87      1000\n",
            "\n"
          ]
        }
      ]
    },
    {
      "cell_type": "markdown",
      "source": [
        "liblinear C=100000 max_iter=1000"
      ],
      "metadata": {
        "id": "unTDtrg4MbWV"
      }
    },
    {
      "cell_type": "code",
      "source": [
        "pred_test = log_model.predict(X_test_tokenized)\n",
        "print(metrics.classification_report(Y_test,pred_test))"
      ],
      "metadata": {
        "colab": {
          "base_uri": "https://localhost:8080/"
        },
        "id": "6fY1visYMjog",
        "outputId": "3cf8530e-f553-4a20-af4d-5c43dce2ed81"
      },
      "execution_count": 59,
      "outputs": [
        {
          "output_type": "stream",
          "name": "stdout",
          "text": [
            "              precision    recall  f1-score   support\n",
            "\n",
            "           0       0.89      0.75      0.82       443\n",
            "           1       0.82      0.93      0.87       557\n",
            "\n",
            "    accuracy                           0.85      1000\n",
            "   macro avg       0.86      0.84      0.84      1000\n",
            "weighted avg       0.86      0.85      0.85      1000\n",
            "\n"
          ]
        }
      ]
    },
    {
      "cell_type": "markdown",
      "source": [
        "### Scaled Binary"
      ],
      "metadata": {
        "id": "8DmNvyG3Nv__"
      }
    },
    {
      "cell_type": "markdown",
      "source": [
        "C=0.001"
      ],
      "metadata": {
        "id": "qj4TaCJpO3Av"
      }
    },
    {
      "cell_type": "code",
      "source": [
        "pred_test = log_model.predict(X_test_tokenized)\n",
        "print(metrics.classification_report(Y_test,pred_test))"
      ],
      "metadata": {
        "colab": {
          "base_uri": "https://localhost:8080/"
        },
        "id": "gsOsH0F-O5YA",
        "outputId": "5a4f70c0-3573-4a80-ca1a-b07a6b11d8e4"
      },
      "execution_count": 79,
      "outputs": [
        {
          "output_type": "stream",
          "name": "stdout",
          "text": [
            "              precision    recall  f1-score   support\n",
            "\n",
            "           0       0.82      0.60      0.69       443\n",
            "           1       0.74      0.89      0.81       557\n",
            "\n",
            "    accuracy                           0.76      1000\n",
            "   macro avg       0.78      0.75      0.75      1000\n",
            "weighted avg       0.77      0.76      0.76      1000\n",
            "\n"
          ]
        }
      ]
    },
    {
      "cell_type": "markdown",
      "source": [
        "C=5"
      ],
      "metadata": {
        "id": "9le_fNC7Oy63"
      }
    },
    {
      "cell_type": "code",
      "source": [
        "pred_test = log_model.predict(X_test_tokenized)\n",
        "print(metrics.classification_report(Y_test,pred_test))"
      ],
      "metadata": {
        "colab": {
          "base_uri": "https://localhost:8080/"
        },
        "id": "cLxjh1YJN8MM",
        "outputId": "e7771018-b3a8-4a76-e999-a351f7c16ea0"
      },
      "execution_count": 77,
      "outputs": [
        {
          "output_type": "stream",
          "name": "stdout",
          "text": [
            "              precision    recall  f1-score   support\n",
            "\n",
            "           0       0.89      0.75      0.81       443\n",
            "           1       0.82      0.93      0.87       557\n",
            "\n",
            "    accuracy                           0.85      1000\n",
            "   macro avg       0.86      0.84      0.84      1000\n",
            "weighted avg       0.85      0.85      0.85      1000\n",
            "\n"
          ]
        }
      ]
    },
    {
      "cell_type": "markdown",
      "source": [
        "C=100000"
      ],
      "metadata": {
        "id": "jmUQ_MK5O61T"
      }
    },
    {
      "cell_type": "code",
      "source": [
        "pred_test = log_model.predict(X_test_tokenized)\n",
        "print(metrics.classification_report(Y_test,pred_test))"
      ],
      "metadata": {
        "colab": {
          "base_uri": "https://localhost:8080/"
        },
        "id": "gshzndMcO8Bk",
        "outputId": "69dca0a6-59e3-4c20-ffe4-45d24b463509"
      },
      "execution_count": 81,
      "outputs": [
        {
          "output_type": "stream",
          "name": "stdout",
          "text": [
            "              precision    recall  f1-score   support\n",
            "\n",
            "           0       0.89      0.74      0.81       443\n",
            "           1       0.82      0.93      0.87       557\n",
            "\n",
            "    accuracy                           0.85      1000\n",
            "   macro avg       0.86      0.84      0.84      1000\n",
            "weighted avg       0.85      0.85      0.84      1000\n",
            "\n"
          ]
        }
      ]
    },
    {
      "cell_type": "markdown",
      "source": [
        "### Unscaled Count"
      ],
      "metadata": {
        "id": "WfN_W_LfNzE4"
      }
    },
    {
      "cell_type": "markdown",
      "source": [
        "C=0.001"
      ],
      "metadata": {
        "id": "9u6RMlzxPVVp"
      }
    },
    {
      "cell_type": "code",
      "source": [
        "pred_test = log_model.predict(X_test_tokenized)\n",
        "print(metrics.classification_report(Y_test,pred_test))"
      ],
      "metadata": {
        "colab": {
          "base_uri": "https://localhost:8080/"
        },
        "id": "-lXgI3YkPXDH",
        "outputId": "6034a1fd-68d1-4178-8975-bb93d829a26d"
      },
      "execution_count": 93,
      "outputs": [
        {
          "output_type": "stream",
          "name": "stdout",
          "text": [
            "              precision    recall  f1-score   support\n",
            "\n",
            "           0       0.70      0.09      0.16       443\n",
            "           1       0.57      0.97      0.72       557\n",
            "\n",
            "    accuracy                           0.58      1000\n",
            "   macro avg       0.63      0.53      0.44      1000\n",
            "weighted avg       0.63      0.58      0.47      1000\n",
            "\n"
          ]
        }
      ]
    },
    {
      "cell_type": "markdown",
      "source": [
        "C=5"
      ],
      "metadata": {
        "id": "UtEQk6wlPWLk"
      }
    },
    {
      "cell_type": "code",
      "source": [
        "pred_test = log_model.predict(X_test_tokenized)\n",
        "print(metrics.classification_report(Y_test,pred_test))"
      ],
      "metadata": {
        "colab": {
          "base_uri": "https://localhost:8080/"
        },
        "id": "hJpFn897PXzk",
        "outputId": "e1efedb7-fb4c-4a80-9842-560d332e3cb6"
      },
      "execution_count": 91,
      "outputs": [
        {
          "output_type": "stream",
          "name": "stdout",
          "text": [
            "              precision    recall  f1-score   support\n",
            "\n",
            "           0       0.71      0.51      0.59       443\n",
            "           1       0.68      0.83      0.75       557\n",
            "\n",
            "    accuracy                           0.69      1000\n",
            "   macro avg       0.69      0.67      0.67      1000\n",
            "weighted avg       0.69      0.69      0.68      1000\n",
            "\n"
          ]
        }
      ]
    },
    {
      "cell_type": "markdown",
      "source": [
        "C=100000"
      ],
      "metadata": {
        "id": "O-A1Kv3TPTQy"
      }
    },
    {
      "cell_type": "code",
      "source": [
        "pred_test = log_model.predict(X_test_tokenized)\n",
        "print(metrics.classification_report(Y_test,pred_test))"
      ],
      "metadata": {
        "colab": {
          "base_uri": "https://localhost:8080/"
        },
        "id": "QoP8MfqgOH8L",
        "outputId": "ac80b712-a075-4ce2-c91b-12117e8ca956"
      },
      "execution_count": 89,
      "outputs": [
        {
          "output_type": "stream",
          "name": "stdout",
          "text": [
            "              precision    recall  f1-score   support\n",
            "\n",
            "           0       0.70      0.51      0.59       443\n",
            "           1       0.68      0.83      0.75       557\n",
            "\n",
            "    accuracy                           0.69      1000\n",
            "   macro avg       0.69      0.67      0.67      1000\n",
            "weighted avg       0.69      0.69      0.68      1000\n",
            "\n"
          ]
        }
      ]
    },
    {
      "cell_type": "markdown",
      "source": [
        "### Scaled Count"
      ],
      "metadata": {
        "id": "YyFb9-qjN2Kx"
      }
    },
    {
      "cell_type": "markdown",
      "source": [
        "C=0.001"
      ],
      "metadata": {
        "id": "gnXcI3hsPxNY"
      }
    },
    {
      "cell_type": "code",
      "source": [
        "pred_test = log_model.predict(X_test_tokenized)\n",
        "print(metrics.classification_report(Y_test,pred_test))"
      ],
      "metadata": {
        "colab": {
          "base_uri": "https://localhost:8080/"
        },
        "id": "5fPEUaIYPuWs",
        "outputId": "6049798e-b490-4dc4-8d71-2277072e2372"
      },
      "execution_count": 103,
      "outputs": [
        {
          "output_type": "stream",
          "name": "stdout",
          "text": [
            "              precision    recall  f1-score   support\n",
            "\n",
            "           0       0.72      0.46      0.56       443\n",
            "           1       0.67      0.86      0.75       557\n",
            "\n",
            "    accuracy                           0.68      1000\n",
            "   macro avg       0.69      0.66      0.66      1000\n",
            "weighted avg       0.69      0.68      0.67      1000\n",
            "\n"
          ]
        }
      ]
    },
    {
      "cell_type": "markdown",
      "source": [
        "C=5"
      ],
      "metadata": {
        "id": "2cSkdNI2Pybe"
      }
    },
    {
      "cell_type": "code",
      "source": [
        "pred_test = log_model.predict(X_test_tokenized)\n",
        "print(metrics.classification_report(Y_test,pred_test))"
      ],
      "metadata": {
        "colab": {
          "base_uri": "https://localhost:8080/"
        },
        "id": "F6Ozfy6rPzOR",
        "outputId": "f810c478-f661-41e8-f81f-4ef9ce39dc96"
      },
      "execution_count": 105,
      "outputs": [
        {
          "output_type": "stream",
          "name": "stdout",
          "text": [
            "              precision    recall  f1-score   support\n",
            "\n",
            "           0       0.70      0.51      0.59       443\n",
            "           1       0.68      0.82      0.74       557\n",
            "\n",
            "    accuracy                           0.69      1000\n",
            "   macro avg       0.69      0.67      0.67      1000\n",
            "weighted avg       0.69      0.69      0.68      1000\n",
            "\n"
          ]
        }
      ]
    },
    {
      "cell_type": "markdown",
      "source": [
        "C=100000"
      ],
      "metadata": {
        "id": "2LTA01OHPzi9"
      }
    },
    {
      "cell_type": "code",
      "source": [
        "pred_test = log_model.predict(X_test_tokenized)\n",
        "print(metrics.classification_report(Y_test,pred_test))"
      ],
      "metadata": {
        "colab": {
          "base_uri": "https://localhost:8080/"
        },
        "id": "w4yOEEsPP0qI",
        "outputId": "6f3090bc-a22b-49fe-9cdf-1eac2bfe5b04"
      },
      "execution_count": 107,
      "outputs": [
        {
          "output_type": "stream",
          "name": "stdout",
          "text": [
            "              precision    recall  f1-score   support\n",
            "\n",
            "           0       0.70      0.51      0.59       443\n",
            "           1       0.68      0.83      0.75       557\n",
            "\n",
            "    accuracy                           0.69      1000\n",
            "   macro avg       0.69      0.67      0.67      1000\n",
            "weighted avg       0.69      0.69      0.68      1000\n",
            "\n"
          ]
        }
      ]
    },
    {
      "cell_type": "markdown",
      "source": [
        "### Unscaled Tfidf"
      ],
      "metadata": {
        "id": "ZwygQSVPN3-n"
      }
    },
    {
      "cell_type": "markdown",
      "source": [
        "C=0.001"
      ],
      "metadata": {
        "id": "ehpeICRvQJum"
      }
    },
    {
      "cell_type": "code",
      "source": [
        "pred_test = log_model.predict(X_test_tokenized)\n",
        "print(metrics.classification_report(Y_test,pred_test))"
      ],
      "metadata": {
        "colab": {
          "base_uri": "https://localhost:8080/"
        },
        "id": "iR_y1ZkaPu2p",
        "outputId": "45acb073-2809-4a60-8559-5d9ad3979ee0"
      },
      "execution_count": 119,
      "outputs": [
        {
          "output_type": "stream",
          "name": "stdout",
          "text": [
            "              precision    recall  f1-score   support\n",
            "\n",
            "           0       0.00      0.00      0.00       443\n",
            "           1       0.56      1.00      0.72       557\n",
            "\n",
            "    accuracy                           0.56      1000\n",
            "   macro avg       0.28      0.50      0.36      1000\n",
            "weighted avg       0.31      0.56      0.40      1000\n",
            "\n"
          ]
        },
        {
          "output_type": "stream",
          "name": "stderr",
          "text": [
            "/usr/local/lib/python3.8/dist-packages/sklearn/metrics/_classification.py:1318: UndefinedMetricWarning: Precision and F-score are ill-defined and being set to 0.0 in labels with no predicted samples. Use `zero_division` parameter to control this behavior.\n",
            "  _warn_prf(average, modifier, msg_start, len(result))\n",
            "/usr/local/lib/python3.8/dist-packages/sklearn/metrics/_classification.py:1318: UndefinedMetricWarning: Precision and F-score are ill-defined and being set to 0.0 in labels with no predicted samples. Use `zero_division` parameter to control this behavior.\n",
            "  _warn_prf(average, modifier, msg_start, len(result))\n",
            "/usr/local/lib/python3.8/dist-packages/sklearn/metrics/_classification.py:1318: UndefinedMetricWarning: Precision and F-score are ill-defined and being set to 0.0 in labels with no predicted samples. Use `zero_division` parameter to control this behavior.\n",
            "  _warn_prf(average, modifier, msg_start, len(result))\n"
          ]
        }
      ]
    },
    {
      "cell_type": "markdown",
      "source": [
        "C=5"
      ],
      "metadata": {
        "id": "4JS8OW1DQK-v"
      }
    },
    {
      "cell_type": "code",
      "source": [
        "pred_test = log_model.predict(X_test_tokenized)\n",
        "print(metrics.classification_report(Y_test,pred_test))"
      ],
      "metadata": {
        "colab": {
          "base_uri": "https://localhost:8080/"
        },
        "id": "MwWuCbAzQMLP",
        "outputId": "e9ccedf3-7458-4238-dc8e-01bb5266b407"
      },
      "execution_count": 117,
      "outputs": [
        {
          "output_type": "stream",
          "name": "stdout",
          "text": [
            "              precision    recall  f1-score   support\n",
            "\n",
            "           0       0.82      0.63      0.71       443\n",
            "           1       0.75      0.89      0.81       557\n",
            "\n",
            "    accuracy                           0.77      1000\n",
            "   macro avg       0.78      0.76      0.76      1000\n",
            "weighted avg       0.78      0.77      0.77      1000\n",
            "\n"
          ]
        }
      ]
    },
    {
      "cell_type": "markdown",
      "source": [
        "C=100000"
      ],
      "metadata": {
        "id": "HQITM77EQL3D"
      }
    },
    {
      "cell_type": "code",
      "source": [
        "pred_test = log_model.predict(X_test_tokenized)\n",
        "print(metrics.classification_report(Y_test,pred_test))"
      ],
      "metadata": {
        "colab": {
          "base_uri": "https://localhost:8080/"
        },
        "id": "hHp5nZwkQOE3",
        "outputId": "81e9c9b0-477d-4f26-83fd-d669f3b2c6da"
      },
      "execution_count": 115,
      "outputs": [
        {
          "output_type": "stream",
          "name": "stdout",
          "text": [
            "              precision    recall  f1-score   support\n",
            "\n",
            "           0       0.85      0.70      0.77       443\n",
            "           1       0.79      0.90      0.84       557\n",
            "\n",
            "    accuracy                           0.81      1000\n",
            "   macro avg       0.82      0.80      0.81      1000\n",
            "weighted avg       0.82      0.81      0.81      1000\n",
            "\n"
          ]
        }
      ]
    },
    {
      "cell_type": "markdown",
      "source": [
        "### Scaled Tfidf"
      ],
      "metadata": {
        "id": "vv7q-ysqN6Pv"
      }
    },
    {
      "cell_type": "markdown",
      "source": [
        "C=0.001"
      ],
      "metadata": {
        "id": "tNY8g_46QRUl"
      }
    },
    {
      "cell_type": "code",
      "source": [
        "pred_test = log_model.predict(X_test_tokenized)\n",
        "print(metrics.classification_report(Y_test,pred_test))"
      ],
      "metadata": {
        "colab": {
          "base_uri": "https://localhost:8080/"
        },
        "id": "VS1VHBCSQRUl",
        "outputId": "62376085-3e45-4320-a062-308bd6d7ff43"
      },
      "execution_count": 123,
      "outputs": [
        {
          "output_type": "stream",
          "name": "stdout",
          "text": [
            "              precision    recall  f1-score   support\n",
            "\n",
            "           0       0.71      0.52      0.60       443\n",
            "           1       0.68      0.83      0.75       557\n",
            "\n",
            "    accuracy                           0.69      1000\n",
            "   macro avg       0.70      0.67      0.68      1000\n",
            "weighted avg       0.70      0.69      0.68      1000\n",
            "\n"
          ]
        }
      ]
    },
    {
      "cell_type": "markdown",
      "source": [
        "C=5"
      ],
      "metadata": {
        "id": "o0KHlzFvQRUl"
      }
    },
    {
      "cell_type": "code",
      "source": [
        "pred_test = log_model.predict(X_test_tokenized)\n",
        "print(metrics.classification_report(Y_test,pred_test))"
      ],
      "metadata": {
        "colab": {
          "base_uri": "https://localhost:8080/"
        },
        "id": "yzICGvsxQRUl",
        "outputId": "805e905b-5ed0-4ce8-a2b9-44286d3c4f34"
      },
      "execution_count": 125,
      "outputs": [
        {
          "output_type": "stream",
          "name": "stdout",
          "text": [
            "              precision    recall  f1-score   support\n",
            "\n",
            "           0       0.85      0.69      0.76       443\n",
            "           1       0.79      0.90      0.84       557\n",
            "\n",
            "    accuracy                           0.81      1000\n",
            "   macro avg       0.82      0.80      0.80      1000\n",
            "weighted avg       0.82      0.81      0.81      1000\n",
            "\n"
          ]
        }
      ]
    },
    {
      "cell_type": "markdown",
      "source": [
        "C=100000"
      ],
      "metadata": {
        "id": "_gALD00RQRUl"
      }
    },
    {
      "cell_type": "code",
      "source": [
        "pred_test = log_model.predict(X_test_tokenized)\n",
        "print(metrics.classification_report(Y_test,pred_test))"
      ],
      "metadata": {
        "colab": {
          "base_uri": "https://localhost:8080/"
        },
        "id": "dvc2NSvlQRUl",
        "outputId": "16cbd8a5-7a75-458f-aa8d-8ce6e3063e70"
      },
      "execution_count": 127,
      "outputs": [
        {
          "output_type": "stream",
          "name": "stdout",
          "text": [
            "              precision    recall  f1-score   support\n",
            "\n",
            "           0       0.85      0.70      0.77       443\n",
            "           1       0.79      0.90      0.84       557\n",
            "\n",
            "    accuracy                           0.81      1000\n",
            "   macro avg       0.82      0.80      0.81      1000\n",
            "weighted avg       0.82      0.81      0.81      1000\n",
            "\n"
          ]
        }
      ]
    },
    {
      "cell_type": "markdown",
      "source": [
        "### Conclusion: Logistic Regression\n",
        "Let's play around with the best one: binary unscaled, C=5 with 0.87 accuracy."
      ],
      "metadata": {
        "id": "gk5gU8c1H6gI"
      }
    },
    {
      "cell_type": "code",
      "source": [
        "pred_test = log_model.predict(X_test_tokenized)\n",
        "print(metrics.classification_report(Y_test,pred_test))"
      ],
      "metadata": {
        "colab": {
          "base_uri": "https://localhost:8080/"
        },
        "id": "Huw1WgNVRKcX",
        "outputId": "8ec0cc15-346f-48b2-d1e3-fd8d6f07beb4"
      },
      "execution_count": 134,
      "outputs": [
        {
          "output_type": "stream",
          "name": "stdout",
          "text": [
            "              precision    recall  f1-score   support\n",
            "\n",
            "           0       0.92      0.77      0.84       443\n",
            "           1       0.84      0.95      0.89       557\n",
            "\n",
            "    accuracy                           0.87      1000\n",
            "   macro avg       0.88      0.86      0.86      1000\n",
            "weighted avg       0.88      0.87      0.87      1000\n",
            "\n"
          ]
        }
      ]
    },
    {
      "cell_type": "code",
      "source": [
        "log_model.predict(tokenizer.transform([\"Does it offer happy hours? It does not allow children below 6.\"]))"
      ],
      "metadata": {
        "colab": {
          "base_uri": "https://localhost:8080/"
        },
        "id": "csZ2tCdkYPtB",
        "outputId": "3afef5d1-224d-4f0a-e279-de4d9bdad0d9"
      },
      "execution_count": 140,
      "outputs": [
        {
          "output_type": "execute_result",
          "data": {
            "text/plain": [
              "array([0])"
            ]
          },
          "metadata": {},
          "execution_count": 140
        }
      ]
    },
    {
      "cell_type": "code",
      "source": [
        "log_model.predict(tokenizer.transform([\"Does it offer a gym? No, it does not have happy hours.\"]))"
      ],
      "metadata": {
        "colab": {
          "base_uri": "https://localhost:8080/"
        },
        "id": "4NLPWm0PR-kK",
        "outputId": "fa763e25-a397-4790-c3d5-6ebd8f98384b"
      },
      "execution_count": 159,
      "outputs": [
        {
          "output_type": "execute_result",
          "data": {
            "text/plain": [
              "array([1])"
            ]
          },
          "metadata": {},
          "execution_count": 159
        }
      ]
    },
    {
      "cell_type": "code",
      "source": [
        "log_model.predict(tokenizer.transform([\"Does it offer a gym on site? No, it does not have happy hours.\"]))"
      ],
      "metadata": {
        "colab": {
          "base_uri": "https://localhost:8080/"
        },
        "id": "n15widylSRZ9",
        "outputId": "e5e9740d-0215-40a6-a7b1-8c6a5e7ad11b"
      },
      "execution_count": 160,
      "outputs": [
        {
          "output_type": "execute_result",
          "data": {
            "text/plain": [
              "array([0])"
            ]
          },
          "metadata": {},
          "execution_count": 160
        }
      ]
    },
    {
      "cell_type": "code",
      "source": [
        "log_model.predict(tokenizer.transform([\"Is there a gym? No, it does not have happy hours.\"]))"
      ],
      "metadata": {
        "colab": {
          "base_uri": "https://localhost:8080/"
        },
        "id": "CKb7GvbuSKou",
        "outputId": "fb8f0189-8610-4215-8ce9-70986840e9a1"
      },
      "execution_count": 142,
      "outputs": [
        {
          "output_type": "execute_result",
          "data": {
            "text/plain": [
              "array([1])"
            ]
          },
          "metadata": {},
          "execution_count": 142
        }
      ]
    },
    {
      "cell_type": "markdown",
      "source": [
        "Remark: With the larger dataset, Logistic Regression accuracy = 0.90 with unscaled binary"
      ],
      "metadata": {
        "id": "yGQLhwkPUiEK"
      }
    },
    {
      "cell_type": "markdown",
      "source": [
        "## SVM"
      ],
      "metadata": {
        "id": "cVDcyWL8sPrM"
      }
    },
    {
      "cell_type": "markdown",
      "source": [
        "Too much data when it comes to svms. Need to take sample. Possible methods to work around it: Trying to use Nystroem to estimate kernel and speed up SVC training, failed. This is why we ultimately used the 9000:1000 data split for all the models."
      ],
      "metadata": {
        "id": "WHlbl5HLyLn9"
      }
    },
    {
      "cell_type": "code",
      "source": [
        "# Normalize data?\n",
        "# X_train_normalized = preprocessing.normalize(X_train_tokenized, norm='l2')\n",
        "# X_test_normalized = preprocessing.normalize(X_test_tokenized, norm='l2')\n",
        "\n",
        "feature_map_nystroem = Nystroem(gamma=.2, random_state=1, n_components=300)\n",
        "X_train_nystroem = feature_map_nystroem.fit_transform(X_train_tokenized)\n",
        "X_test_nystroem = feature_map_nystroem.transform(X_test_tokenized)"
      ],
      "metadata": {
        "id": "CZPzYgsXZgkF"
      },
      "execution_count": 16,
      "outputs": []
    },
    {
      "cell_type": "markdown",
      "source": [
        "Model choices:"
      ],
      "metadata": {
        "id": "gXJbTRPRtxij"
      }
    },
    {
      "cell_type": "code",
      "source": [
        "# Linear kernel\n",
        "support_vec_machine = svm.LinearSVC()"
      ],
      "metadata": {
        "id": "F1DmsDhDsYkk"
      },
      "execution_count": 24,
      "outputs": []
    },
    {
      "cell_type": "code",
      "source": [
        "# Solving the convergence issue\n",
        "support_vec_machine = svm.LinearSVC(max_iter=2000)"
      ],
      "metadata": {
        "id": "BEybhV5UjPMD"
      },
      "execution_count": 18,
      "outputs": []
    },
    {
      "cell_type": "code",
      "source": [
        "# Main function\n",
        "support_vec_machine = svm.SVC(C=5,kernel='linear', gamma='auto')"
      ],
      "metadata": {
        "id": "ROwKm8pMVUZk"
      },
      "execution_count": 223,
      "outputs": []
    },
    {
      "cell_type": "markdown",
      "source": [
        "Continue running here."
      ],
      "metadata": {
        "id": "5yqIgTFAWbwD"
      }
    },
    {
      "cell_type": "code",
      "source": [
        "support_vec_machine.fit(X_train_tokenized, Y_train)"
      ],
      "metadata": {
        "colab": {
          "base_uri": "https://localhost:8080/"
        },
        "id": "ruKHEf65WbCK",
        "outputId": "b1c41fb9-955d-4f68-f309-04f6fbbd2947"
      },
      "execution_count": 224,
      "outputs": [
        {
          "output_type": "execute_result",
          "data": {
            "text/plain": [
              "SVC(C=5, gamma='auto', kernel='linear')"
            ]
          },
          "metadata": {},
          "execution_count": 224
        }
      ]
    },
    {
      "cell_type": "markdown",
      "source": [
        "### Nystroem + LinearSVC\n",
        "Let's try the nystroem approximation first with LinearSVC() to see if these tricks can run our huge dataset. Result is not good."
      ],
      "metadata": {
        "id": "ETXFgm2Zt1hu"
      }
    },
    {
      "cell_type": "code",
      "source": [
        "support_vec_machine.fit(X_train_nystroem, Y_train)"
      ],
      "metadata": {
        "colab": {
          "base_uri": "https://localhost:8080/"
        },
        "id": "KyI_Z4bXtwJh",
        "outputId": "5a986320-bb00-481f-a4a7-8a5d6316e80f"
      },
      "execution_count": 19,
      "outputs": [
        {
          "output_type": "execute_result",
          "data": {
            "text/plain": [
              "LinearSVC()"
            ]
          },
          "metadata": {},
          "execution_count": 19
        }
      ]
    },
    {
      "cell_type": "code",
      "source": [
        "support_vec_machine.score(X_train_nystroem,Y_train)"
      ],
      "metadata": {
        "colab": {
          "base_uri": "https://localhost:8080/"
        },
        "id": "U34DG4E2h7I8",
        "outputId": "7f79f04b-df52-48ef-8156-cc63a14568c2"
      },
      "execution_count": 20,
      "outputs": [
        {
          "output_type": "execute_result",
          "data": {
            "text/plain": [
              "0.774442490633097"
            ]
          },
          "metadata": {},
          "execution_count": 20
        }
      ]
    },
    {
      "cell_type": "code",
      "source": [
        "support_vec_machine.score(X_test_nystroem,Y_test)"
      ],
      "metadata": {
        "colab": {
          "base_uri": "https://localhost:8080/"
        },
        "id": "nzU6RhU4Wc5s",
        "outputId": "1307b216-7a60-489d-e337-da57716484d2"
      },
      "execution_count": 21,
      "outputs": [
        {
          "output_type": "execute_result",
          "data": {
            "text/plain": [
              "0.7742236140625582"
            ]
          },
          "metadata": {},
          "execution_count": 21
        }
      ]
    },
    {
      "cell_type": "markdown",
      "source": [
        "Now we can try without the approximation"
      ],
      "metadata": {
        "id": "GN7rxyQVi89c"
      }
    },
    {
      "cell_type": "code",
      "source": [
        "support_vec_machine.fit(X_train_tokenized, Y_train)"
      ],
      "metadata": {
        "colab": {
          "base_uri": "https://localhost:8080/"
        },
        "id": "41fY6Pali_YF",
        "outputId": "e33dffcc-ef3b-46b9-9019-906bd44d2d63"
      },
      "execution_count": 26,
      "outputs": [
        {
          "output_type": "execute_result",
          "data": {
            "text/plain": [
              "LinearSVC(max_iter=2000)"
            ]
          },
          "metadata": {},
          "execution_count": 26
        }
      ]
    },
    {
      "cell_type": "code",
      "source": [
        "support_vec_machine.score(X_train_tokenized,Y_train)"
      ],
      "metadata": {
        "colab": {
          "base_uri": "https://localhost:8080/"
        },
        "id": "gS38nFvdjZL4",
        "outputId": "18c52e28-3e81-45ba-e9c6-3a559aae6794"
      },
      "execution_count": 27,
      "outputs": [
        {
          "output_type": "execute_result",
          "data": {
            "text/plain": [
              "0.901337359703573"
            ]
          },
          "metadata": {},
          "execution_count": 27
        }
      ]
    },
    {
      "cell_type": "code",
      "source": [
        "support_vec_machine.score(X_test_tokenized,Y_test)"
      ],
      "metadata": {
        "colab": {
          "base_uri": "https://localhost:8080/"
        },
        "id": "FrW4UMGhjemt",
        "outputId": "dbbdf2af-d9e3-4adb-ef0b-8be44ce3f357"
      },
      "execution_count": 28,
      "outputs": [
        {
          "output_type": "execute_result",
          "data": {
            "text/plain": [
              "0.8998620586809828"
            ]
          },
          "metadata": {},
          "execution_count": 28
        }
      ]
    },
    {
      "cell_type": "markdown",
      "source": [
        "Now try with feature scaling"
      ],
      "metadata": {
        "id": "HEPOHtCMk1Nv"
      }
    },
    {
      "cell_type": "code",
      "source": [
        "support_vec_machine.fit(X_train_scaled, Y_train)"
      ],
      "metadata": {
        "colab": {
          "base_uri": "https://localhost:8080/"
        },
        "id": "zR3_Gq4Ek48E",
        "outputId": "b576c177-0584-498c-e4cb-8b19ebf3392f"
      },
      "execution_count": 19,
      "outputs": [
        {
          "output_type": "stream",
          "name": "stderr",
          "text": [
            "/usr/local/lib/python3.8/dist-packages/sklearn/svm/_base.py:1206: ConvergenceWarning: Liblinear failed to converge, increase the number of iterations.\n",
            "  warnings.warn(\n"
          ]
        },
        {
          "output_type": "execute_result",
          "data": {
            "text/plain": [
              "LinearSVC(max_iter=5000)"
            ]
          },
          "metadata": {},
          "execution_count": 19
        }
      ]
    },
    {
      "cell_type": "code",
      "source": [
        "support_vec_machine.score(X_train_scaled,Y_train)"
      ],
      "metadata": {
        "colab": {
          "base_uri": "https://localhost:8080/"
        },
        "id": "KIYCHqixk-RT",
        "outputId": "a43c87eb-33e7-4dc2-ea7d-e1391fec0d7f"
      },
      "execution_count": 20,
      "outputs": [
        {
          "output_type": "execute_result",
          "data": {
            "text/plain": [
              "0.8968242626088145"
            ]
          },
          "metadata": {},
          "execution_count": 20
        }
      ]
    },
    {
      "cell_type": "code",
      "source": [
        "support_vec_machine.score(X_test_scaled,Y_test)"
      ],
      "metadata": {
        "colab": {
          "base_uri": "https://localhost:8080/"
        },
        "id": "XWoygopnlAgl",
        "outputId": "5c521df9-804e-4e94-df28-bac2c775d765"
      },
      "execution_count": 21,
      "outputs": [
        {
          "output_type": "execute_result",
          "data": {
            "text/plain": [
              "0.8958729448607539"
            ]
          },
          "metadata": {},
          "execution_count": 21
        }
      ]
    },
    {
      "cell_type": "markdown",
      "source": [
        "### Deciding to go with smaller dataset"
      ],
      "metadata": {
        "id": "rXgokgn9UdD7"
      }
    },
    {
      "cell_type": "markdown",
      "source": [
        "After sampling 9000:1000 train:test data\\\n",
        "Just with binary tokenized data, result with different SVCs"
      ],
      "metadata": {
        "id": "DYNEU7CZVJqG"
      }
    },
    {
      "cell_type": "markdown",
      "source": [
        "### Unscaled Binary"
      ],
      "metadata": {
        "id": "gGC_sS3gVzW5"
      }
    },
    {
      "cell_type": "markdown",
      "source": [
        "With C=5 for all, Linear"
      ],
      "metadata": {
        "id": "azaKw5vkWfsy"
      }
    },
    {
      "cell_type": "code",
      "source": [
        "# BEST\n",
        "pred_test = support_vec_machine.predict(X_test_tokenized)\n",
        "print(metrics.classification_report(Y_test,pred_test))"
      ],
      "metadata": {
        "colab": {
          "base_uri": "https://localhost:8080/"
        },
        "id": "ZBGxRsy2nLlg",
        "outputId": "24ac15e6-e2ca-4d96-c854-7c2c1437124a"
      },
      "execution_count": 169,
      "outputs": [
        {
          "output_type": "stream",
          "name": "stdout",
          "text": [
            "              precision    recall  f1-score   support\n",
            "\n",
            "           0       0.92      0.76      0.83       443\n",
            "           1       0.83      0.95      0.89       557\n",
            "\n",
            "    accuracy                           0.86      1000\n",
            "   macro avg       0.88      0.85      0.86      1000\n",
            "weighted avg       0.87      0.86      0.86      1000\n",
            "\n"
          ]
        }
      ]
    },
    {
      "cell_type": "markdown",
      "source": [
        "Poly"
      ],
      "metadata": {
        "id": "VCxwTSmgWltz"
      }
    },
    {
      "cell_type": "code",
      "source": [
        "pred_test = support_vec_machine.predict(X_test_tokenized)\n",
        "print(metrics.classification_report(Y_test,pred_test))"
      ],
      "metadata": {
        "colab": {
          "base_uri": "https://localhost:8080/"
        },
        "id": "v0eyIsWZWwoJ",
        "outputId": "662267dd-e31d-4081-ee11-e4a18d430a20"
      },
      "execution_count": 173,
      "outputs": [
        {
          "output_type": "stream",
          "name": "stdout",
          "text": [
            "              precision    recall  f1-score   support\n",
            "\n",
            "           0       0.00      0.00      0.00       443\n",
            "           1       0.56      1.00      0.72       557\n",
            "\n",
            "    accuracy                           0.56      1000\n",
            "   macro avg       0.28      0.50      0.36      1000\n",
            "weighted avg       0.31      0.56      0.40      1000\n",
            "\n"
          ]
        },
        {
          "output_type": "stream",
          "name": "stderr",
          "text": [
            "/usr/local/lib/python3.8/dist-packages/sklearn/metrics/_classification.py:1318: UndefinedMetricWarning: Precision and F-score are ill-defined and being set to 0.0 in labels with no predicted samples. Use `zero_division` parameter to control this behavior.\n",
            "  _warn_prf(average, modifier, msg_start, len(result))\n",
            "/usr/local/lib/python3.8/dist-packages/sklearn/metrics/_classification.py:1318: UndefinedMetricWarning: Precision and F-score are ill-defined and being set to 0.0 in labels with no predicted samples. Use `zero_division` parameter to control this behavior.\n",
            "  _warn_prf(average, modifier, msg_start, len(result))\n",
            "/usr/local/lib/python3.8/dist-packages/sklearn/metrics/_classification.py:1318: UndefinedMetricWarning: Precision and F-score are ill-defined and being set to 0.0 in labels with no predicted samples. Use `zero_division` parameter to control this behavior.\n",
            "  _warn_prf(average, modifier, msg_start, len(result))\n"
          ]
        }
      ]
    },
    {
      "cell_type": "markdown",
      "source": [
        "RBF"
      ],
      "metadata": {
        "id": "oprXLK-xWxhJ"
      }
    },
    {
      "cell_type": "code",
      "source": [
        "pred_test = support_vec_machine.predict(X_test_tokenized)\n",
        "print(metrics.classification_report(Y_test,pred_test))"
      ],
      "metadata": {
        "colab": {
          "base_uri": "https://localhost:8080/"
        },
        "id": "DsLPgfpfWyvW",
        "outputId": "a388f5e6-700b-4fd8-cc3f-712325c8aa6c"
      },
      "execution_count": 176,
      "outputs": [
        {
          "output_type": "stream",
          "name": "stdout",
          "text": [
            "              precision    recall  f1-score   support\n",
            "\n",
            "           0       0.85      0.27      0.41       443\n",
            "           1       0.62      0.96      0.76       557\n",
            "\n",
            "    accuracy                           0.65      1000\n",
            "   macro avg       0.74      0.61      0.58      1000\n",
            "weighted avg       0.72      0.65      0.60      1000\n",
            "\n"
          ]
        }
      ]
    },
    {
      "cell_type": "markdown",
      "source": [
        "### Scaled Tfidf"
      ],
      "metadata": {
        "id": "23OoHaq3ZFgy"
      }
    },
    {
      "cell_type": "markdown",
      "source": [
        "Linear"
      ],
      "metadata": {
        "id": "2lKqit8CZLgw"
      }
    },
    {
      "cell_type": "code",
      "source": [
        "pred_test = support_vec_machine.predict(X_test_tokenized)\n",
        "print(metrics.classification_report(Y_test,pred_test))"
      ],
      "metadata": {
        "colab": {
          "base_uri": "https://localhost:8080/"
        },
        "id": "ItFHWbnEZJCE",
        "outputId": "80cc4d52-ee49-4bb0-8841-e9f55cb60985"
      },
      "execution_count": 192,
      "outputs": [
        {
          "output_type": "stream",
          "name": "stdout",
          "text": [
            "              precision    recall  f1-score   support\n",
            "\n",
            "           0       0.87      0.71      0.78       443\n",
            "           1       0.80      0.92      0.85       557\n",
            "\n",
            "    accuracy                           0.82      1000\n",
            "   macro avg       0.83      0.81      0.82      1000\n",
            "weighted avg       0.83      0.82      0.82      1000\n",
            "\n"
          ]
        }
      ]
    },
    {
      "cell_type": "markdown",
      "source": [
        "Poly"
      ],
      "metadata": {
        "id": "SQGrZQDwZMr4"
      }
    },
    {
      "cell_type": "code",
      "source": [
        "pred_test = support_vec_machine.predict(X_test_tokenized)\n",
        "print(metrics.classification_report(Y_test,pred_test))"
      ],
      "metadata": {
        "colab": {
          "base_uri": "https://localhost:8080/"
        },
        "id": "K5ovB8EAZOXL",
        "outputId": "f00073ba-a8a4-403d-9033-f9d0d69a8257"
      },
      "execution_count": 189,
      "outputs": [
        {
          "output_type": "stream",
          "name": "stdout",
          "text": [
            "              precision    recall  f1-score   support\n",
            "\n",
            "           0       0.77      0.26      0.39       443\n",
            "           1       0.62      0.94      0.74       557\n",
            "\n",
            "    accuracy                           0.64      1000\n",
            "   macro avg       0.69      0.60      0.57      1000\n",
            "weighted avg       0.69      0.64      0.59      1000\n",
            "\n"
          ]
        }
      ]
    },
    {
      "cell_type": "markdown",
      "source": [
        "RBF"
      ],
      "metadata": {
        "id": "SN4L5dEeZNVj"
      }
    },
    {
      "cell_type": "code",
      "source": [
        "pred_test = support_vec_machine.predict(X_test_tokenized)\n",
        "print(metrics.classification_report(Y_test,pred_test))"
      ],
      "metadata": {
        "colab": {
          "base_uri": "https://localhost:8080/"
        },
        "id": "mrEFU-d8ZO7y",
        "outputId": "ec2ffec8-ee79-4845-8725-3c9f6de66da8"
      },
      "execution_count": 186,
      "outputs": [
        {
          "output_type": "stream",
          "name": "stdout",
          "text": [
            "              precision    recall  f1-score   support\n",
            "\n",
            "           0       0.88      0.73      0.80       443\n",
            "           1       0.81      0.92      0.86       557\n",
            "\n",
            "    accuracy                           0.84      1000\n",
            "   macro avg       0.85      0.83      0.83      1000\n",
            "weighted avg       0.84      0.84      0.83      1000\n",
            "\n"
          ]
        }
      ]
    },
    {
      "cell_type": "markdown",
      "source": [
        "### Conclusion:"
      ],
      "metadata": {
        "id": "obYf_Y50y3fs"
      }
    },
    {
      "cell_type": "code",
      "source": [
        "support_vec_machine.predict(scipy.sparse.csr_matrix.todense(tokenizer.transform([\"Does it offer happy hours? It does not allow children below 6.\"])))"
      ],
      "metadata": {
        "colab": {
          "base_uri": "https://localhost:8080/"
        },
        "outputId": "4cb03e74-78e8-454f-f27b-870f27e4c36b",
        "id": "v-a3pp9Uy60H"
      },
      "execution_count": 226,
      "outputs": [
        {
          "output_type": "stream",
          "name": "stderr",
          "text": [
            "/usr/local/lib/python3.8/dist-packages/sklearn/utils/validation.py:593: FutureWarning: np.matrix usage is deprecated in 1.0 and will raise a TypeError in 1.2. Please convert to a numpy array with np.asarray. For more information see: https://numpy.org/doc/stable/reference/generated/numpy.matrix.html\n",
            "  warnings.warn(\n"
          ]
        },
        {
          "output_type": "execute_result",
          "data": {
            "text/plain": [
              "array([0])"
            ]
          },
          "metadata": {},
          "execution_count": 226
        }
      ]
    },
    {
      "cell_type": "code",
      "source": [
        "support_vec_machine.predict(scipy.sparse.csr_matrix.todense(tokenizer.transform([\"Does it offer a gym? No, it does not have happy hours.\"])))"
      ],
      "metadata": {
        "colab": {
          "base_uri": "https://localhost:8080/"
        },
        "outputId": "57d7cb9b-a8ec-4f5a-8efd-dcdbe6e0d868",
        "id": "baVdLHS2y60H"
      },
      "execution_count": 227,
      "outputs": [
        {
          "output_type": "stream",
          "name": "stderr",
          "text": [
            "/usr/local/lib/python3.8/dist-packages/sklearn/utils/validation.py:593: FutureWarning: np.matrix usage is deprecated in 1.0 and will raise a TypeError in 1.2. Please convert to a numpy array with np.asarray. For more information see: https://numpy.org/doc/stable/reference/generated/numpy.matrix.html\n",
            "  warnings.warn(\n"
          ]
        },
        {
          "output_type": "execute_result",
          "data": {
            "text/plain": [
              "array([1])"
            ]
          },
          "metadata": {},
          "execution_count": 227
        }
      ]
    },
    {
      "cell_type": "code",
      "source": [
        "support_vec_machine.predict(scipy.sparse.csr_matrix.todense(tokenizer.transform([\"Does it offer a gym on site? No, it does not have happy hours.\"])))"
      ],
      "metadata": {
        "colab": {
          "base_uri": "https://localhost:8080/"
        },
        "outputId": "800b42f0-adb7-45b6-9e4d-17688871d935",
        "id": "TOWN22XIy60H"
      },
      "execution_count": 228,
      "outputs": [
        {
          "output_type": "stream",
          "name": "stderr",
          "text": [
            "/usr/local/lib/python3.8/dist-packages/sklearn/utils/validation.py:593: FutureWarning: np.matrix usage is deprecated in 1.0 and will raise a TypeError in 1.2. Please convert to a numpy array with np.asarray. For more information see: https://numpy.org/doc/stable/reference/generated/numpy.matrix.html\n",
            "  warnings.warn(\n"
          ]
        },
        {
          "output_type": "execute_result",
          "data": {
            "text/plain": [
              "array([0])"
            ]
          },
          "metadata": {},
          "execution_count": 228
        }
      ]
    },
    {
      "cell_type": "code",
      "source": [
        "support_vec_machine.predict(scipy.sparse.csr_matrix.todense(tokenizer.transform([\"Is there a gym? No, it does not have happy hours.\"])))"
      ],
      "metadata": {
        "colab": {
          "base_uri": "https://localhost:8080/"
        },
        "outputId": "1486c98c-e535-4342-aed8-26c4a75aa07c",
        "id": "77QQ3qZLy60H"
      },
      "execution_count": 229,
      "outputs": [
        {
          "output_type": "stream",
          "name": "stderr",
          "text": [
            "/usr/local/lib/python3.8/dist-packages/sklearn/utils/validation.py:593: FutureWarning: np.matrix usage is deprecated in 1.0 and will raise a TypeError in 1.2. Please convert to a numpy array with np.asarray. For more information see: https://numpy.org/doc/stable/reference/generated/numpy.matrix.html\n",
            "  warnings.warn(\n"
          ]
        },
        {
          "output_type": "execute_result",
          "data": {
            "text/plain": [
              "array([1])"
            ]
          },
          "metadata": {},
          "execution_count": 229
        }
      ]
    },
    {
      "cell_type": "markdown",
      "source": [
        "## Neural Networks"
      ],
      "metadata": {
        "id": "sgEzRRbXpzGj"
      }
    },
    {
      "cell_type": "code",
      "source": [
        "X_train_tokenized.shape,X_train_tokenized.reshape(-1,1).shape"
      ],
      "metadata": {
        "colab": {
          "base_uri": "https://localhost:8080/"
        },
        "id": "510r1fPBxEoi",
        "outputId": "6288ccd6-6906-4d73-a99d-cb24f5256e64"
      },
      "execution_count": 67,
      "outputs": [
        {
          "output_type": "execute_result",
          "data": {
            "text/plain": [
              "((482817, 2284), (1102754028, 1))"
            ]
          },
          "metadata": {},
          "execution_count": 67
        }
      ]
    },
    {
      "cell_type": "markdown",
      "source": [
        "Choosing the model"
      ],
      "metadata": {
        "id": "zDJDcXWz3Bm7"
      }
    },
    {
      "cell_type": "code",
      "source": [
        "# 3 layers, no reg\n",
        "model = tf.keras.Sequential([\n",
        "                            tf.keras.layers.Dense(128,activation='relu',input_shape=(X_train_tokenized.shape[1],)),\n",
        "                            tf.keras.layers.Dense(32,activation='relu'),\n",
        "                            tf.keras.layers.Dense(2,activation='softmax')\n",
        "])"
      ],
      "metadata": {
        "id": "d6gaBXGrp1DH"
      },
      "execution_count": 236,
      "outputs": []
    },
    {
      "cell_type": "code",
      "source": [
        "# 3 layers, l2 reg\n",
        "model = tf.keras.Sequential([\n",
        "                            tf.keras.layers.Dense(128,activation='relu',input_shape=(X_train_tokenized.shape[1],), kernel_regularizer=regularizers.L2(1e-4)),\n",
        "                            tf.keras.layers.Dense(32,activation='relu', kernel_regularizer=regularizers.L2(1e-4)),\n",
        "                            tf.keras.layers.Dense(2,activation='softmax', kernel_regularizer=regularizers.L2(1e-4))\n",
        "])"
      ],
      "metadata": {
        "id": "PCSIQlJ223pY"
      },
      "execution_count": 205,
      "outputs": []
    },
    {
      "cell_type": "code",
      "source": [
        "# 3 layers, dropout\n",
        "model = tf.keras.Sequential([\n",
        "                            tf.keras.layers.Dense(128,activation='relu',input_shape=(X_train_tokenized.shape[1],)),\n",
        "                            tf.keras.layers.Dropout(0.2),\n",
        "                            tf.keras.layers.Dense(32,activation='relu'),\n",
        "                            tf.keras.layers.Dropout(0.2),\n",
        "                            tf.keras.layers.Dense(2,activation='softmax')\n",
        "])"
      ],
      "metadata": {
        "id": "iEm8TX3r4Ck3"
      },
      "execution_count": 209,
      "outputs": []
    },
    {
      "cell_type": "markdown",
      "source": [
        "Summary"
      ],
      "metadata": {
        "id": "xrrel9fg3ATK"
      }
    },
    {
      "cell_type": "code",
      "source": [
        "model.compile(loss='sparse_categorical_crossentropy', optimizer='adam', metrics=['accuracy'])\n",
        "model.summary()"
      ],
      "metadata": {
        "colab": {
          "base_uri": "https://localhost:8080/"
        },
        "id": "YojMy1tCxfXK",
        "outputId": "10755cfd-e7dc-45b2-af44-63e679308cfd"
      },
      "execution_count": 237,
      "outputs": [
        {
          "output_type": "stream",
          "name": "stdout",
          "text": [
            "Model: \"sequential_7\"\n",
            "_________________________________________________________________\n",
            " Layer (type)                Output Shape              Param #   \n",
            "=================================================================\n",
            " dense_21 (Dense)            (None, 128)               211712    \n",
            "                                                                 \n",
            " dense_22 (Dense)            (None, 32)                4128      \n",
            "                                                                 \n",
            " dense_23 (Dense)            (None, 2)                 66        \n",
            "                                                                 \n",
            "=================================================================\n",
            "Total params: 215,906\n",
            "Trainable params: 215,906\n",
            "Non-trainable params: 0\n",
            "_________________________________________________________________\n"
          ]
        }
      ]
    },
    {
      "cell_type": "markdown",
      "source": [
        "### Unscaled Binary"
      ],
      "metadata": {
        "id": "hIsnNZKjiQ84"
      }
    },
    {
      "cell_type": "markdown",
      "source": [
        "3 layers without any regularization:"
      ],
      "metadata": {
        "id": "80e9NuTX2oAg"
      }
    },
    {
      "cell_type": "code",
      "source": [
        "# BEST @ epoch 9/10\n",
        "history = model.fit(X_train_tokenized, Y_train, epochs=10, validation_data=(X_test_tokenized, Y_test), verbose=2)"
      ],
      "metadata": {
        "colab": {
          "base_uri": "https://localhost:8080/"
        },
        "id": "TKaK-_yHxpMT",
        "outputId": "5602d849-dab8-4283-d714-b642b745b9f1"
      },
      "execution_count": 16,
      "outputs": [
        {
          "output_type": "stream",
          "name": "stdout",
          "text": [
            "Epoch 1/10\n",
            "282/282 - 3s - loss: 0.5161 - accuracy: 0.7346 - val_loss: 0.4017 - val_accuracy: 0.8300 - 3s/epoch - 10ms/step\n",
            "Epoch 2/10\n",
            "282/282 - 2s - loss: 0.2468 - accuracy: 0.9102 - val_loss: 0.2947 - val_accuracy: 0.8800 - 2s/epoch - 6ms/step\n",
            "Epoch 3/10\n",
            "282/282 - 2s - loss: 0.1100 - accuracy: 0.9651 - val_loss: 0.2640 - val_accuracy: 0.9040 - 2s/epoch - 6ms/step\n",
            "Epoch 4/10\n",
            "282/282 - 2s - loss: 0.0612 - accuracy: 0.9814 - val_loss: 0.2387 - val_accuracy: 0.9280 - 2s/epoch - 6ms/step\n",
            "Epoch 5/10\n",
            "282/282 - 2s - loss: 0.0314 - accuracy: 0.9913 - val_loss: 0.2442 - val_accuracy: 0.9330 - 2s/epoch - 6ms/step\n",
            "Epoch 6/10\n",
            "282/282 - 2s - loss: 0.0226 - accuracy: 0.9940 - val_loss: 0.2711 - val_accuracy: 0.9280 - 2s/epoch - 6ms/step\n",
            "Epoch 7/10\n",
            "282/282 - 2s - loss: 0.0113 - accuracy: 0.9973 - val_loss: 0.3092 - val_accuracy: 0.9280 - 2s/epoch - 6ms/step\n",
            "Epoch 8/10\n",
            "282/282 - 1s - loss: 0.0082 - accuracy: 0.9978 - val_loss: 0.2423 - val_accuracy: 0.9450 - 1s/epoch - 5ms/step\n",
            "Epoch 9/10\n",
            "282/282 - 1s - loss: 0.0051 - accuracy: 0.9988 - val_loss: 0.2470 - val_accuracy: 0.9460 - 1s/epoch - 5ms/step\n",
            "Epoch 10/10\n",
            "282/282 - 2s - loss: 0.0061 - accuracy: 0.9990 - val_loss: 0.2737 - val_accuracy: 0.9360 - 2s/epoch - 6ms/step\n"
          ]
        }
      ]
    },
    {
      "cell_type": "code",
      "source": [
        "plt.figure(figsize=(12, 5))\n",
        "plt.subplot(121)\n",
        "plt.plot(history.history['loss'])\n",
        "plt.plot(history.history['val_loss']);\n",
        "plt.xlabel(\"Epochs\")\n",
        "plt.ylabel(\"Loss\")\n",
        "plt.legend(['train loss', 'test loss']);\n",
        "ax = plt.subplot(122)\n",
        "plt.plot(history.history['accuracy'])\n",
        "plt.plot(history.history['val_accuracy'])\n",
        "plt.xlabel(\"Epochs\")\n",
        "plt.ylabel(\"Accuracy\")\n",
        "plt.legend(['train accuracy', 'test accuracy']);"
      ],
      "metadata": {
        "colab": {
          "base_uri": "https://localhost:8080/",
          "height": 334
        },
        "id": "0JuIhIgZ1ntC",
        "outputId": "42d86abd-c23c-41df-de89-8c79f263c609"
      },
      "execution_count": 17,
      "outputs": [
        {
          "output_type": "display_data",
          "data": {
            "text/plain": [
              "<Figure size 864x360 with 2 Axes>"
            ],
            "image/png": "[encoded data removed]"
          },
          "metadata": {
            "needs_background": "light"
          }
        }
      ]
    },
    {
      "cell_type": "markdown",
      "source": [
        "3 layers with L2 regularization:"
      ],
      "metadata": {
        "id": "UFxRteUj2uHy"
      }
    },
    {
      "cell_type": "code",
      "source": [
        "history = model.fit(X_train_tokenized, Y_train, epochs=10, validation_data=(X_test_tokenized, Y_test), verbose=2)"
      ],
      "metadata": {
        "colab": {
          "base_uri": "https://localhost:8080/"
        },
        "id": "yVGNU2MU377A",
        "outputId": "2f37ce6c-9e58-4b03-f31b-cb59506a6f49"
      },
      "execution_count": 23,
      "outputs": [
        {
          "output_type": "stream",
          "name": "stdout",
          "text": [
            "Epoch 1/10\n",
            "282/282 - 3s - loss: 0.5256 - accuracy: 0.7451 - val_loss: 0.4270 - val_accuracy: 0.8320 - 3s/epoch - 10ms/step\n",
            "Epoch 2/10\n",
            "282/282 - 2s - loss: 0.2582 - accuracy: 0.9100 - val_loss: 0.2991 - val_accuracy: 0.8850 - 2s/epoch - 7ms/step\n",
            "Epoch 3/10\n",
            "282/282 - 2s - loss: 0.1416 - accuracy: 0.9629 - val_loss: 0.2824 - val_accuracy: 0.9000 - 2s/epoch - 7ms/step\n",
            "Epoch 4/10\n",
            "282/282 - 1s - loss: 0.0892 - accuracy: 0.9797 - val_loss: 0.2888 - val_accuracy: 0.9170 - 1s/epoch - 5ms/step\n",
            "Epoch 5/10\n",
            "282/282 - 1s - loss: 0.0638 - accuracy: 0.9893 - val_loss: 0.2522 - val_accuracy: 0.9290 - 1s/epoch - 5ms/step\n",
            "Epoch 6/10\n",
            "282/282 - 2s - loss: 0.0525 - accuracy: 0.9917 - val_loss: 0.2952 - val_accuracy: 0.9280 - 2s/epoch - 6ms/step\n",
            "Epoch 7/10\n",
            "282/282 - 2s - loss: 0.0446 - accuracy: 0.9944 - val_loss: 0.3515 - val_accuracy: 0.9160 - 2s/epoch - 7ms/step\n",
            "Epoch 8/10\n",
            "282/282 - 2s - loss: 0.0371 - accuracy: 0.9978 - val_loss: 0.2577 - val_accuracy: 0.9370 - 2s/epoch - 7ms/step\n",
            "Epoch 9/10\n",
            "282/282 - 2s - loss: 0.0403 - accuracy: 0.9964 - val_loss: 0.3589 - val_accuracy: 0.9150 - 2s/epoch - 6ms/step\n",
            "Epoch 10/10\n",
            "282/282 - 2s - loss: 0.0590 - accuracy: 0.9907 - val_loss: 0.2530 - val_accuracy: 0.9330 - 2s/epoch - 7ms/step\n"
          ]
        }
      ]
    },
    {
      "cell_type": "code",
      "source": [
        "plt.figure(figsize=(12, 5))\n",
        "plt.subplot(121)\n",
        "plt.plot(history.history['loss'])\n",
        "plt.plot(history.history['val_loss']);\n",
        "plt.xlabel(\"Epochs\")\n",
        "plt.ylabel(\"Loss\")\n",
        "plt.legend(['train loss', 'test loss']);\n",
        "ax = plt.subplot(122)\n",
        "plt.plot(history.history['accuracy'])\n",
        "plt.plot(history.history['val_accuracy'])\n",
        "plt.xlabel(\"Epochs\")\n",
        "plt.ylabel(\"Accuracy\")\n",
        "plt.legend(['train accuracy', 'test accuracy']);"
      ],
      "metadata": {
        "colab": {
          "base_uri": "https://localhost:8080/",
          "height": 334
        },
        "id": "AikduFMk4VoU",
        "outputId": "3515bce9-4475-48b4-fe9d-0a370546edce"
      },
      "execution_count": 24,
      "outputs": [
        {
          "output_type": "display_data",
          "data": {
            "text/plain": [
              "<Figure size 864x360 with 2 Axes>"
            ],
            "image/png": "[encoded data removed]"
          },
          "metadata": {
            "needs_background": "light"
          }
        }
      ]
    },
    {
      "cell_type": "markdown",
      "source": [
        "3 layers with dropout regularization:"
      ],
      "metadata": {
        "id": "42UOzhtE2xM2"
      }
    },
    {
      "cell_type": "code",
      "source": [
        "history = model.fit(X_train_tokenized, Y_train, epochs=10, validation_data=(X_test_tokenized, Y_test), verbose=2)"
      ],
      "metadata": {
        "colab": {
          "base_uri": "https://localhost:8080/"
        },
        "id": "9nW6nh8E5XDQ",
        "outputId": "dcbd8f24-f05c-4a5a-95d6-77c78ab4aee4"
      },
      "execution_count": 29,
      "outputs": [
        {
          "output_type": "stream",
          "name": "stdout",
          "text": [
            "Epoch 1/10\n",
            "282/282 - 2s - loss: 0.5509 - accuracy: 0.7117 - val_loss: 0.4295 - val_accuracy: 0.8230 - 2s/epoch - 9ms/step\n",
            "Epoch 2/10\n",
            "282/282 - 2s - loss: 0.3153 - accuracy: 0.8740 - val_loss: 0.3015 - val_accuracy: 0.8810 - 2s/epoch - 5ms/step\n",
            "Epoch 3/10\n",
            "282/282 - 2s - loss: 0.1764 - accuracy: 0.9378 - val_loss: 0.2504 - val_accuracy: 0.9080 - 2s/epoch - 5ms/step\n",
            "Epoch 4/10\n",
            "282/282 - 2s - loss: 0.1107 - accuracy: 0.9640 - val_loss: 0.2635 - val_accuracy: 0.9080 - 2s/epoch - 6ms/step\n",
            "Epoch 5/10\n",
            "282/282 - 2s - loss: 0.0730 - accuracy: 0.9779 - val_loss: 0.2370 - val_accuracy: 0.9280 - 2s/epoch - 6ms/step\n",
            "Epoch 6/10\n",
            "282/282 - 2s - loss: 0.0564 - accuracy: 0.9820 - val_loss: 0.2454 - val_accuracy: 0.9260 - 2s/epoch - 6ms/step\n",
            "Epoch 7/10\n",
            "282/282 - 1s - loss: 0.0436 - accuracy: 0.9873 - val_loss: 0.2625 - val_accuracy: 0.9250 - 1s/epoch - 5ms/step\n",
            "Epoch 8/10\n",
            "282/282 - 2s - loss: 0.0338 - accuracy: 0.9896 - val_loss: 0.3375 - val_accuracy: 0.9190 - 2s/epoch - 6ms/step\n",
            "Epoch 9/10\n",
            "282/282 - 2s - loss: 0.0314 - accuracy: 0.9893 - val_loss: 0.2440 - val_accuracy: 0.9290 - 2s/epoch - 5ms/step\n",
            "Epoch 10/10\n",
            "282/282 - 1s - loss: 0.0284 - accuracy: 0.9913 - val_loss: 0.3352 - val_accuracy: 0.9150 - 1s/epoch - 5ms/step\n"
          ]
        }
      ]
    },
    {
      "cell_type": "code",
      "source": [
        "plt.figure(figsize=(12, 5))\n",
        "plt.subplot(121)\n",
        "plt.plot(history.history['loss'])\n",
        "plt.plot(history.history['val_loss']);\n",
        "plt.xlabel(\"Epochs\")\n",
        "plt.ylabel(\"Loss\")\n",
        "plt.legend(['train loss', 'test loss']);\n",
        "ax = plt.subplot(122)\n",
        "plt.plot(history.history['accuracy'])\n",
        "plt.plot(history.history['val_accuracy'])\n",
        "plt.xlabel(\"Epochs\")\n",
        "plt.ylabel(\"Accuracy\")\n",
        "plt.legend(['train accuracy', 'test accuracy']);"
      ],
      "metadata": {
        "colab": {
          "base_uri": "https://localhost:8080/",
          "height": 334
        },
        "id": "NXW-GT4f5bLb",
        "outputId": "1022e7fd-2b1c-42cc-f8a1-c5e14b3529fd"
      },
      "execution_count": 30,
      "outputs": [
        {
          "output_type": "display_data",
          "data": {
            "text/plain": [
              "<Figure size 864x360 with 2 Axes>"
            ],
            "image/png": "[encoded data removed]"
          },
          "metadata": {
            "needs_background": "light"
          }
        }
      ]
    },
    {
      "cell_type": "markdown",
      "source": [
        "### Scaled Tfidf"
      ],
      "metadata": {
        "id": "byVjY0qhiYMQ"
      }
    },
    {
      "cell_type": "markdown",
      "source": [
        "3 layers without any regularization:"
      ],
      "metadata": {
        "id": "R8HXC5w8iYse"
      }
    },
    {
      "cell_type": "code",
      "source": [
        "history = model.fit(X_train_tokenized, Y_train, epochs=10, validation_data=(X_test_tokenized, Y_test), verbose=2)"
      ],
      "metadata": {
        "colab": {
          "base_uri": "https://localhost:8080/"
        },
        "outputId": "77e4a0af-f36e-4262-8efe-685858a5fc52",
        "id": "T-V3RcvbiYse"
      },
      "execution_count": 203,
      "outputs": [
        {
          "output_type": "stream",
          "name": "stdout",
          "text": [
            "Epoch 1/10\n",
            "282/282 - 2s - loss: 0.6013 - accuracy: 0.7019 - val_loss: 0.5493 - val_accuracy: 0.7400 - 2s/epoch - 9ms/step\n",
            "Epoch 2/10\n",
            "282/282 - 1s - loss: 0.3836 - accuracy: 0.8361 - val_loss: 0.5245 - val_accuracy: 0.7880 - 1s/epoch - 4ms/step\n",
            "Epoch 3/10\n",
            "282/282 - 1s - loss: 0.2690 - accuracy: 0.9020 - val_loss: 0.4781 - val_accuracy: 0.8350 - 1s/epoch - 4ms/step\n",
            "Epoch 4/10\n",
            "282/282 - 1s - loss: 0.1748 - accuracy: 0.9427 - val_loss: 0.4817 - val_accuracy: 0.8430 - 1s/epoch - 4ms/step\n",
            "Epoch 5/10\n",
            "282/282 - 1s - loss: 0.1248 - accuracy: 0.9629 - val_loss: 0.5005 - val_accuracy: 0.8460 - 1s/epoch - 4ms/step\n",
            "Epoch 6/10\n",
            "282/282 - 1s - loss: 0.0834 - accuracy: 0.9769 - val_loss: 0.4690 - val_accuracy: 0.8780 - 1s/epoch - 4ms/step\n",
            "Epoch 7/10\n",
            "282/282 - 1s - loss: 0.0677 - accuracy: 0.9783 - val_loss: 0.5128 - val_accuracy: 0.8710 - 1s/epoch - 4ms/step\n",
            "Epoch 8/10\n",
            "282/282 - 1s - loss: 0.0538 - accuracy: 0.9822 - val_loss: 0.5030 - val_accuracy: 0.8870 - 1s/epoch - 4ms/step\n",
            "Epoch 9/10\n",
            "282/282 - 1s - loss: 0.0415 - accuracy: 0.9859 - val_loss: 0.4926 - val_accuracy: 0.8850 - 994ms/epoch - 4ms/step\n",
            "Epoch 10/10\n",
            "282/282 - 1s - loss: 0.0326 - accuracy: 0.9883 - val_loss: 0.5207 - val_accuracy: 0.8970 - 1s/epoch - 4ms/step\n"
          ]
        }
      ]
    },
    {
      "cell_type": "code",
      "source": [
        "plt.figure(figsize=(12, 5))\n",
        "plt.subplot(121)\n",
        "plt.plot(history.history['loss'])\n",
        "plt.plot(history.history['val_loss']);\n",
        "plt.xlabel(\"Epochs\")\n",
        "plt.ylabel(\"Loss\")\n",
        "plt.legend(['train loss', 'test loss']);\n",
        "ax = plt.subplot(122)\n",
        "plt.plot(history.history['accuracy'])\n",
        "plt.plot(history.history['val_accuracy'])\n",
        "plt.xlabel(\"Epochs\")\n",
        "plt.ylabel(\"Accuracy\")\n",
        "plt.legend(['train accuracy', 'test accuracy']);"
      ],
      "metadata": {
        "colab": {
          "base_uri": "https://localhost:8080/",
          "height": 467
        },
        "outputId": "27426ad0-fee4-4f72-a448-efb0684a0b63",
        "id": "gMJ8OiNyiYse"
      },
      "execution_count": 204,
      "outputs": [
        {
          "output_type": "display_data",
          "data": {
            "text/plain": [
              "<Figure size 1200x500 with 2 Axes>"
            ],
            "image/png": "[encoded data removed]"
          },
          "metadata": {}
        }
      ]
    },
    {
      "cell_type": "markdown",
      "source": [
        "3 layers with L2 regularization:"
      ],
      "metadata": {
        "id": "eKH9yDr1iYse"
      }
    },
    {
      "cell_type": "code",
      "source": [
        "history = model.fit(X_train_tokenized, Y_train, epochs=10, validation_data=(X_test_tokenized, Y_test), verbose=2)"
      ],
      "metadata": {
        "colab": {
          "base_uri": "https://localhost:8080/"
        },
        "outputId": "77b3459b-2666-4bb9-85c6-61e33e47abf8",
        "id": "yvOtKdfpiYse"
      },
      "execution_count": 207,
      "outputs": [
        {
          "output_type": "stream",
          "name": "stdout",
          "text": [
            "Epoch 1/10\n",
            "282/282 - 2s - loss: 0.5871 - accuracy: 0.7132 - val_loss: 0.5459 - val_accuracy: 0.7550 - 2s/epoch - 8ms/step\n",
            "Epoch 2/10\n",
            "282/282 - 1s - loss: 0.3750 - accuracy: 0.8533 - val_loss: 0.5241 - val_accuracy: 0.8020 - 1s/epoch - 5ms/step\n",
            "Epoch 3/10\n",
            "282/282 - 1s - loss: 0.2535 - accuracy: 0.9173 - val_loss: 0.4625 - val_accuracy: 0.8620 - 1s/epoch - 5ms/step\n",
            "Epoch 4/10\n",
            "282/282 - 1s - loss: 0.1751 - accuracy: 0.9501 - val_loss: 0.4650 - val_accuracy: 0.8650 - 1s/epoch - 5ms/step\n",
            "Epoch 5/10\n",
            "282/282 - 1s - loss: 0.1334 - accuracy: 0.9661 - val_loss: 0.4537 - val_accuracy: 0.8840 - 1s/epoch - 5ms/step\n",
            "Epoch 6/10\n",
            "282/282 - 1s - loss: 0.0950 - accuracy: 0.9783 - val_loss: 0.4561 - val_accuracy: 0.8820 - 1s/epoch - 5ms/step\n",
            "Epoch 7/10\n",
            "282/282 - 1s - loss: 0.0861 - accuracy: 0.9801 - val_loss: 0.4634 - val_accuracy: 0.8900 - 1s/epoch - 5ms/step\n",
            "Epoch 8/10\n",
            "282/282 - 1s - loss: 0.0768 - accuracy: 0.9832 - val_loss: 0.4335 - val_accuracy: 0.8990 - 1s/epoch - 5ms/step\n",
            "Epoch 9/10\n",
            "282/282 - 1s - loss: 0.0633 - accuracy: 0.9850 - val_loss: 0.4487 - val_accuracy: 0.8920 - 1s/epoch - 5ms/step\n",
            "Epoch 10/10\n",
            "282/282 - 1s - loss: 0.0646 - accuracy: 0.9868 - val_loss: 0.3968 - val_accuracy: 0.9040 - 1s/epoch - 4ms/step\n"
          ]
        }
      ]
    },
    {
      "cell_type": "code",
      "source": [
        "plt.figure(figsize=(12, 5))\n",
        "plt.subplot(121)\n",
        "plt.plot(history.history['loss'])\n",
        "plt.plot(history.history['val_loss']);\n",
        "plt.xlabel(\"Epochs\")\n",
        "plt.ylabel(\"Loss\")\n",
        "plt.legend(['train loss', 'test loss']);\n",
        "ax = plt.subplot(122)\n",
        "plt.plot(history.history['accuracy'])\n",
        "plt.plot(history.history['val_accuracy'])\n",
        "plt.xlabel(\"Epochs\")\n",
        "plt.ylabel(\"Accuracy\")\n",
        "plt.legend(['train accuracy', 'test accuracy']);"
      ],
      "metadata": {
        "colab": {
          "base_uri": "https://localhost:8080/",
          "height": 470
        },
        "outputId": "48f8787b-2e7b-4cee-e8c4-e96bfe8afaec",
        "id": "TRTwiVkgiYse"
      },
      "execution_count": 208,
      "outputs": [
        {
          "output_type": "display_data",
          "data": {
            "text/plain": [
              "<Figure size 1200x500 with 2 Axes>"
            ],
            "image/png": "[encoded data removed]"
          },
          "metadata": {}
        }
      ]
    },
    {
      "cell_type": "markdown",
      "source": [
        "3 layers with dropout regularization:"
      ],
      "metadata": {
        "id": "P5RvIDdxiYsf"
      }
    },
    {
      "cell_type": "code",
      "source": [
        "history = model.fit(X_train_tokenized, Y_train, epochs=10, validation_data=(X_test_tokenized, Y_test), verbose=2)"
      ],
      "metadata": {
        "colab": {
          "base_uri": "https://localhost:8080/"
        },
        "outputId": "a10f8fa2-ead9-4b54-a799-379d5c04c689",
        "id": "rTZaOI6diYsf"
      },
      "execution_count": 211,
      "outputs": [
        {
          "output_type": "stream",
          "name": "stdout",
          "text": [
            "Epoch 1/10\n",
            "282/282 - 2s - loss: 0.6602 - accuracy: 0.6644 - val_loss: 0.5696 - val_accuracy: 0.7320 - 2s/epoch - 7ms/step\n",
            "Epoch 2/10\n",
            "282/282 - 1s - loss: 0.4813 - accuracy: 0.7738 - val_loss: 0.5471 - val_accuracy: 0.7630 - 1s/epoch - 4ms/step\n",
            "Epoch 3/10\n",
            "282/282 - 1s - loss: 0.4036 - accuracy: 0.8201 - val_loss: 0.5325 - val_accuracy: 0.7970 - 1s/epoch - 4ms/step\n",
            "Epoch 4/10\n",
            "282/282 - 1s - loss: 0.3483 - accuracy: 0.8472 - val_loss: 0.5255 - val_accuracy: 0.8120 - 1s/epoch - 4ms/step\n",
            "Epoch 5/10\n",
            "282/282 - 1s - loss: 0.2846 - accuracy: 0.8812 - val_loss: 0.5401 - val_accuracy: 0.8210 - 1s/epoch - 4ms/step\n",
            "Epoch 6/10\n",
            "282/282 - 1s - loss: 0.2482 - accuracy: 0.9003 - val_loss: 0.5195 - val_accuracy: 0.8480 - 1s/epoch - 4ms/step\n",
            "Epoch 7/10\n",
            "282/282 - 1s - loss: 0.2044 - accuracy: 0.9190 - val_loss: 0.5732 - val_accuracy: 0.8390 - 1s/epoch - 4ms/step\n",
            "Epoch 8/10\n",
            "282/282 - 1s - loss: 0.1757 - accuracy: 0.9357 - val_loss: 0.6093 - val_accuracy: 0.8430 - 1s/epoch - 4ms/step\n",
            "Epoch 9/10\n",
            "282/282 - 1s - loss: 0.1482 - accuracy: 0.9467 - val_loss: 0.5965 - val_accuracy: 0.8550 - 1s/epoch - 4ms/step\n",
            "Epoch 10/10\n",
            "282/282 - 1s - loss: 0.1357 - accuracy: 0.9500 - val_loss: 0.6672 - val_accuracy: 0.8560 - 1s/epoch - 4ms/step\n"
          ]
        }
      ]
    },
    {
      "cell_type": "code",
      "source": [
        "plt.figure(figsize=(12, 5))\n",
        "plt.subplot(121)\n",
        "plt.plot(history.history['loss'])\n",
        "plt.plot(history.history['val_loss']);\n",
        "plt.xlabel(\"Epochs\")\n",
        "plt.ylabel(\"Loss\")\n",
        "plt.legend(['train loss', 'test loss']);\n",
        "ax = plt.subplot(122)\n",
        "plt.plot(history.history['accuracy'])\n",
        "plt.plot(history.history['val_accuracy'])\n",
        "plt.xlabel(\"Epochs\")\n",
        "plt.ylabel(\"Accuracy\")\n",
        "plt.legend(['train accuracy', 'test accuracy']);"
      ],
      "metadata": {
        "colab": {
          "base_uri": "https://localhost:8080/",
          "height": 465
        },
        "outputId": "9741384f-8903-4c5f-8bcc-f33f235af9d8",
        "id": "XbHH19ZoiYsf"
      },
      "execution_count": 212,
      "outputs": [
        {
          "output_type": "display_data",
          "data": {
            "text/plain": [
              "<Figure size 1200x500 with 2 Axes>"
            ],
            "image/png": "[encoded data removed]"
          },
          "metadata": {}
        }
      ]
    },
    {
      "cell_type": "markdown",
      "source": [
        "### Conclusion:"
      ],
      "metadata": {
        "id": "j3POI_qO2viM"
      }
    },
    {
      "cell_type": "code",
      "source": [
        "history = model.fit(X_train_tokenized, Y_train, epochs=10, validation_data=(X_test_tokenized, Y_test), verbose=2)"
      ],
      "metadata": {
        "colab": {
          "base_uri": "https://localhost:8080/"
        },
        "id": "zMpqgIL92xPp",
        "outputId": "d961a756-9b16-4862-c122-8df4837cde31"
      },
      "execution_count": 238,
      "outputs": [
        {
          "output_type": "stream",
          "name": "stdout",
          "text": [
            "Epoch 1/10\n",
            "282/282 - 2s - loss: 0.5071 - accuracy: 0.7454 - val_loss: 0.4002 - val_accuracy: 0.8320 - 2s/epoch - 7ms/step\n",
            "Epoch 2/10\n",
            "282/282 - 1s - loss: 0.2369 - accuracy: 0.9119 - val_loss: 0.2926 - val_accuracy: 0.8880 - 1s/epoch - 4ms/step\n",
            "Epoch 3/10\n",
            "282/282 - 1s - loss: 0.1118 - accuracy: 0.9658 - val_loss: 0.2387 - val_accuracy: 0.9100 - 1s/epoch - 4ms/step\n",
            "Epoch 4/10\n",
            "282/282 - 1s - loss: 0.0585 - accuracy: 0.9821 - val_loss: 0.2602 - val_accuracy: 0.9130 - 1s/epoch - 4ms/step\n",
            "Epoch 5/10\n",
            "282/282 - 1s - loss: 0.0368 - accuracy: 0.9896 - val_loss: 0.3355 - val_accuracy: 0.9080 - 1s/epoch - 4ms/step\n",
            "Epoch 6/10\n",
            "282/282 - 1s - loss: 0.0195 - accuracy: 0.9951 - val_loss: 0.2712 - val_accuracy: 0.9300 - 1s/epoch - 4ms/step\n",
            "Epoch 7/10\n",
            "282/282 - 1s - loss: 0.0147 - accuracy: 0.9959 - val_loss: 0.2964 - val_accuracy: 0.9340 - 1s/epoch - 4ms/step\n",
            "Epoch 8/10\n",
            "282/282 - 1s - loss: 0.0097 - accuracy: 0.9969 - val_loss: 0.3689 - val_accuracy: 0.9200 - 1s/epoch - 4ms/step\n",
            "Epoch 9/10\n",
            "282/282 - 1s - loss: 0.0145 - accuracy: 0.9960 - val_loss: 0.3122 - val_accuracy: 0.9290 - 1s/epoch - 4ms/step\n",
            "Epoch 10/10\n",
            "282/282 - 1s - loss: 0.0108 - accuracy: 0.9970 - val_loss: 0.4485 - val_accuracy: 0.9080 - 1s/epoch - 4ms/step\n"
          ]
        }
      ]
    },
    {
      "cell_type": "code",
      "source": [
        "model.predict(scipy.sparse.csr_matrix.todense(tokenizer.transform([\"Does it offer happy hours? It does not allow children below 6.\"])))"
      ],
      "metadata": {
        "colab": {
          "base_uri": "https://localhost:8080/"
        },
        "outputId": "50cfe948-a539-4f11-db3f-03e3a178e9a5",
        "id": "wi2SOTyl4BJe"
      },
      "execution_count": 239,
      "outputs": [
        {
          "output_type": "stream",
          "name": "stdout",
          "text": [
            "1/1 [==============================] - 0s 108ms/step\n"
          ]
        },
        {
          "output_type": "execute_result",
          "data": {
            "text/plain": [
              "array([[0.07494579, 0.9250542 ]], dtype=float32)"
            ]
          },
          "metadata": {},
          "execution_count": 239
        }
      ]
    },
    {
      "cell_type": "code",
      "source": [
        "model.predict(scipy.sparse.csr_matrix.todense(tokenizer.transform([\"Does it offer a gym? No, it does not have happy hours.\"])))"
      ],
      "metadata": {
        "colab": {
          "base_uri": "https://localhost:8080/"
        },
        "outputId": "e0b397cf-22e9-4516-8f36-f2758ac6bcb7",
        "id": "wOc23cyj4BJf"
      },
      "execution_count": 240,
      "outputs": [
        {
          "output_type": "stream",
          "name": "stdout",
          "text": [
            "1/1 [==============================] - 0s 55ms/step\n"
          ]
        },
        {
          "output_type": "execute_result",
          "data": {
            "text/plain": [
              "array([[0.02371382, 0.9762862 ]], dtype=float32)"
            ]
          },
          "metadata": {},
          "execution_count": 240
        }
      ]
    },
    {
      "cell_type": "code",
      "source": [
        "model.predict(scipy.sparse.csr_matrix.todense(tokenizer.transform([\"Does it offer a gym on site? No, it does not have happy hours.\"])))"
      ],
      "metadata": {
        "colab": {
          "base_uri": "https://localhost:8080/"
        },
        "outputId": "ceff3dad-e267-4272-9f5d-b63d1c467952",
        "id": "YhaNNNfP4BJf"
      },
      "execution_count": 247,
      "outputs": [
        {
          "output_type": "stream",
          "name": "stdout",
          "text": [
            "1/1 [==============================] - 0s 19ms/step\n"
          ]
        },
        {
          "output_type": "execute_result",
          "data": {
            "text/plain": [
              "array([[0.05099352, 0.9490065 ]], dtype=float32)"
            ]
          },
          "metadata": {},
          "execution_count": 247
        }
      ]
    },
    {
      "cell_type": "code",
      "source": [
        "model.predict(scipy.sparse.csr_matrix.todense(tokenizer.transform([\"Is there a gym? No, it does not have happy hours.\"])))"
      ],
      "metadata": {
        "colab": {
          "base_uri": "https://localhost:8080/"
        },
        "outputId": "e7df5e5a-527f-47c6-d624-f9452a3ad718",
        "id": "lmUM2M5E4BJf"
      },
      "execution_count": 243,
      "outputs": [
        {
          "output_type": "stream",
          "name": "stdout",
          "text": [
            "1/1 [==============================] - 0s 19ms/step\n"
          ]
        },
        {
          "output_type": "execute_result",
          "data": {
            "text/plain": [
              "array([[9.1008429e-04, 9.9908996e-01]], dtype=float32)"
            ]
          },
          "metadata": {},
          "execution_count": 243
        }
      ]
    },
    {
      "cell_type": "markdown",
      "source": [
        "## Others: BERT Transformers model using pytorch"
      ],
      "metadata": {
        "id": "x2ieL8yo6pQ_"
      }
    },
    {
      "cell_type": "code",
      "source": [
        "%env HOME=/content/drive/MyDrive/\n",
        "#Enter Model Environment\n",
        "%cd ~/Research/ner/text_classifier/model_env/dstc10\n",
        "!ls -lrt"
      ],
      "metadata": {
        "colab": {
          "base_uri": "https://localhost:8080/"
        },
        "id": "vPOB99Lr7jyE",
        "outputId": "ffc02836-8dc7-4588-bcb6-7d1a209fcb31"
      },
      "execution_count": 257,
      "outputs": [
        {
          "output_type": "stream",
          "name": "stdout",
          "text": [
            "env: HOME=/content/drive/MyDrive/\n",
            "/content/drive/MyDrive/Research/ner/text_classifier/model_env/dstc10\n",
            "total 427984\n",
            "-rw------- 1 root root       699 Jul 27  2021 config.json\n",
            "-rw------- 1 root root 437990081 Jul 27  2021 pytorch_model.bin\n",
            "-rw------- 1 root root         0 Aug  7  2021 merge_log.txt\n",
            "-rw------- 1 root root    142175 Aug  9  2021 one_elem_cluster2.pkl\n",
            "-rw------- 1 root root    121615 Aug  9  2021 one_elem_cluster1.pkl\n"
          ]
        }
      ]
    },
    {
      "cell_type": "code",
      "source": [
        "import torch\n",
        "\n",
        "model_name = \"bert-base-uncased\"\n",
        "batch_size = 32\n",
        "device = torch.device(\"cuda\" if torch.cuda.is_available() else \"cpu\")"
      ],
      "metadata": {
        "id": "WEYvRTFz7CVV"
      },
      "execution_count": 258,
      "outputs": []
    },
    {
      "cell_type": "code",
      "source": [
        "!pip install transformers"
      ],
      "metadata": {
        "colab": {
          "base_uri": "https://localhost:8080/"
        },
        "id": "nODVMsU17ZPU",
        "outputId": "ca8a9ead-60e0-4b8c-fc7a-25b6e3540531"
      },
      "execution_count": 259,
      "outputs": [
        {
          "output_type": "stream",
          "name": "stdout",
          "text": [
            "Looking in indexes: https://pypi.org/simple, https://us-python.pkg.dev/colab-wheels/public/simple/\n",
            "Collecting transformers\n",
            "  Downloading transformers-4.25.1-py3-none-any.whl (5.8 MB)\n",
            "\u001b[K     |████████████████████████████████| 5.8 MB 6.0 MB/s \n",
            "\u001b[?25hRequirement already satisfied: regex!=2019.12.17 in /usr/local/lib/python3.8/dist-packages (from transformers) (2022.6.2)\n",
            "Collecting huggingface-hub<1.0,>=0.10.0\n",
            "  Downloading huggingface_hub-0.11.1-py3-none-any.whl (182 kB)\n",
            "\u001b[K     |████████████████████████████████| 182 kB 48.7 MB/s \n",
            "\u001b[?25hCollecting tokenizers!=0.11.3,<0.14,>=0.11.1\n",
            "  Downloading tokenizers-0.13.2-cp38-cp38-manylinux_2_17_x86_64.manylinux2014_x86_64.whl (7.6 MB)\n",
            "\u001b[K     |████████████████████████████████| 7.6 MB 35.4 MB/s \n",
            "\u001b[?25hRequirement already satisfied: filelock in /usr/local/lib/python3.8/dist-packages (from transformers) (3.8.0)\n",
            "Requirement already satisfied: requests in /usr/local/lib/python3.8/dist-packages (from transformers) (2.23.0)\n",
            "Requirement already satisfied: packaging>=20.0 in /usr/local/lib/python3.8/dist-packages (from transformers) (21.3)\n",
            "Requirement already satisfied: pyyaml>=5.1 in /usr/local/lib/python3.8/dist-packages (from transformers) (6.0)\n",
            "Requirement already satisfied: numpy>=1.17 in /usr/local/lib/python3.8/dist-packages (from transformers) (1.21.6)\n",
            "Requirement already satisfied: tqdm>=4.27 in /usr/local/lib/python3.8/dist-packages (from transformers) (4.64.1)\n",
            "Requirement already satisfied: typing-extensions>=3.7.4.3 in /usr/local/lib/python3.8/dist-packages (from huggingface-hub<1.0,>=0.10.0->transformers) (4.4.0)\n",
            "Requirement already satisfied: pyparsing!=3.0.5,>=2.0.2 in /usr/local/lib/python3.8/dist-packages (from packaging>=20.0->transformers) (3.0.9)\n",
            "Requirement already satisfied: urllib3!=1.25.0,!=1.25.1,<1.26,>=1.21.1 in /usr/local/lib/python3.8/dist-packages (from requests->transformers) (1.24.3)\n",
            "Requirement already satisfied: certifi>=2017.4.17 in /usr/local/lib/python3.8/dist-packages (from requests->transformers) (2022.9.24)\n",
            "Requirement already satisfied: chardet<4,>=3.0.2 in /usr/local/lib/python3.8/dist-packages (from requests->transformers) (3.0.4)\n",
            "Requirement already satisfied: idna<3,>=2.5 in /usr/local/lib/python3.8/dist-packages (from requests->transformers) (2.10)\n",
            "Installing collected packages: tokenizers, huggingface-hub, transformers\n",
            "Successfully installed huggingface-hub-0.11.1 tokenizers-0.13.2 transformers-4.25.1\n"
          ]
        }
      ]
    },
    {
      "cell_type": "code",
      "source": [
        "#Loading Tokenizer, Config, and Model from drive\n",
        "from transformers import AutoConfig, AutoTokenizer, AutoModel, AutoModelForSequenceClassification\n",
        "\n",
        "model_name = \"bert-base-uncased\"\n",
        "\n",
        "config = AutoConfig.from_pretrained(model_name)\n",
        "tokenizer = AutoTokenizer.from_pretrained(model_name, use_fast=True)\n",
        "#model = AutoModel.from_pretrained(\"./glue_model\")\n",
        "model = AutoModelForSequenceClassification.from_pretrained(\".\")\n",
        "\n",
        "# Set device\n",
        "model.to(device)"
      ],
      "metadata": {
        "colab": {
          "base_uri": "https://localhost:8080/",
          "height": 1000,
          "referenced_widgets": [
            "66e3787bb2a3443d82b1ba2339a717bf",
            "3cfaf57df9444a7389e8df2a16a48d8c",
            "3221ab27628d4be49f84ab002e800866",
            "bb1686ff192544c8b2943c508a84775f",
            "fa993f036617404d9da11873eccc2a09",
            "5b25df86c6ca43438028c177155ea5a8",
            "ec681aa00e1842f196b606a7ff5176af",
            "87c4c226aff04e2bb377ee7c7d9a558f",
            "6456506c5947487997abff4d91525cfa",
            "188959f64f8a4dfd9f426bca7d560b89",
            "9260b92f857e4efa83b2b4f781fedea5",
            "33b91e600fca4966bd5d0421c6043c83",
            "da86bd15dd3846ceb5289b51717d7e34",
            "0ec2cf8b4ce94153aa1ae96265528f30",
            "58b4772cc55e430285d76ae3d90b8c31",
            "2c18a09909b04ac3a01e20a634abd997",
            "17f22b07eec6415eae5d6810b010dd47",
            "e2164ba8bda84c02a15111439c49f15f",
            "01f6e6988dd54c979e60aa0cdf563db2",
            "15cb163577cf4f13a39c4eb9dae6f94a",
            "9e54b10eb0ab4b77a11229e47129cbc7",
            "dcaf6b9648da4c7ab691e85ab756c4da",
            "36442b9dd79241d6aa3e066bec1ab353",
            "e5175b69d62b480fb8cf5eac44b2b01c",
            "1972592e160841fc89e97cc0487ebf44",
            "4a8c2f4789a14c3980713e117095378f",
            "1aada5c87b7e4e77a0c63a4dddbed09e",
            "34e82861873b4edc826b83c075794bb7",
            "a942e00ebb5e408e8a25febea45fc9d9",
            "043488b821dd463a91b927395fa5ee12",
            "32201ccb979947fba1ab15b0363e3051",
            "189c6953f44845dd9a7c2ca1464f6157",
            "fd225cd8c79645638b7f1ec728b8b37f",
            "29186d5214934c9d875bdd7328daf186",
            "91701ccc35584b0fb38a1dcef79bc3e0",
            "cfc8f13f6a2d4502b282c5f37da9fb50",
            "2da7d90acbbe472fb308cc5f9c8fd729",
            "8aa7be65672843b598ed5ae9c34789ef",
            "3b6763a301bb43ee9f569f73e93c269e",
            "70ee87ce64b140658c58565064e195bf",
            "7ee06f4041ca4fb2be6c28b8c732a626",
            "bc011cbe57f345268c42a22a43ffc0dc",
            "74e00b7ef322450fadd0f9a99e37d197",
            "77f72a87c60042e8b065549592a6868b"
          ]
        },
        "id": "FcB1T_mM7avy",
        "outputId": "b7c8a681-c0d2-4a55-f80d-262dd26c14da"
      },
      "execution_count": 260,
      "outputs": [
        {
          "output_type": "display_data",
          "data": {
            "text/plain": [
              "Downloading:   0%|          | 0.00/570 [00:00<?, ?B/s]"
            ],
            "application/vnd.jupyter.widget-view+json": {
              "version_major": 2,
              "version_minor": 0,
              "model_id": "66e3787bb2a3443d82b1ba2339a717bf"
            }
          },
          "metadata": {}
        },
        {
          "output_type": "display_data",
          "data": {
            "text/plain": [
              "Downloading:   0%|          | 0.00/28.0 [00:00<?, ?B/s]"
            ],
            "application/vnd.jupyter.widget-view+json": {
              "version_major": 2,
              "version_minor": 0,
              "model_id": "33b91e600fca4966bd5d0421c6043c83"
            }
          },
          "metadata": {}
        },
        {
          "output_type": "display_data",
          "data": {
            "text/plain": [
              "Downloading:   0%|          | 0.00/232k [00:00<?, ?B/s]"
            ],
            "application/vnd.jupyter.widget-view+json": {
              "version_major": 2,
              "version_minor": 0,
              "model_id": "36442b9dd79241d6aa3e066bec1ab353"
            }
          },
          "metadata": {}
        },
        {
          "output_type": "display_data",
          "data": {
            "text/plain": [
              "Downloading:   0%|          | 0.00/466k [00:00<?, ?B/s]"
            ],
            "application/vnd.jupyter.widget-view+json": {
              "version_major": 2,
              "version_minor": 0,
              "model_id": "29186d5214934c9d875bdd7328daf186"
            }
          },
          "metadata": {}
        },
        {
          "output_type": "execute_result",
          "data": {
            "text/plain": [
              "BertForSequenceClassification(\n",
              "  (bert): BertModel(\n",
              "    (embeddings): BertEmbeddings(\n",
              "      (word_embeddings): Embedding(30522, 768, padding_idx=0)\n",
              "      (position_embeddings): Embedding(512, 768)\n",
              "      (token_type_embeddings): Embedding(2, 768)\n",
              "      (LayerNorm): LayerNorm((768,), eps=1e-12, elementwise_affine=True)\n",
              "      (dropout): Dropout(p=0.1, inplace=False)\n",
              "    )\n",
              "    (encoder): BertEncoder(\n",
              "      (layer): ModuleList(\n",
              "        (0): BertLayer(\n",
              "          (attention): BertAttention(\n",
              "            (self): BertSelfAttention(\n",
              "              (query): Linear(in_features=768, out_features=768, bias=True)\n",
              "              (key): Linear(in_features=768, out_features=768, bias=True)\n",
              "              (value): Linear(in_features=768, out_features=768, bias=True)\n",
              "              (dropout): Dropout(p=0.1, inplace=False)\n",
              "            )\n",
              "            (output): BertSelfOutput(\n",
              "              (dense): Linear(in_features=768, out_features=768, bias=True)\n",
              "              (LayerNorm): LayerNorm((768,), eps=1e-12, elementwise_affine=True)\n",
              "              (dropout): Dropout(p=0.1, inplace=False)\n",
              "            )\n",
              "          )\n",
              "          (intermediate): BertIntermediate(\n",
              "            (dense): Linear(in_features=768, out_features=3072, bias=True)\n",
              "            (intermediate_act_fn): GELUActivation()\n",
              "          )\n",
              "          (output): BertOutput(\n",
              "            (dense): Linear(in_features=3072, out_features=768, bias=True)\n",
              "            (LayerNorm): LayerNorm((768,), eps=1e-12, elementwise_affine=True)\n",
              "            (dropout): Dropout(p=0.1, inplace=False)\n",
              "          )\n",
              "        )\n",
              "        (1): BertLayer(\n",
              "          (attention): BertAttention(\n",
              "            (self): BertSelfAttention(\n",
              "              (query): Linear(in_features=768, out_features=768, bias=True)\n",
              "              (key): Linear(in_features=768, out_features=768, bias=True)\n",
              "              (value): Linear(in_features=768, out_features=768, bias=True)\n",
              "              (dropout): Dropout(p=0.1, inplace=False)\n",
              "            )\n",
              "            (output): BertSelfOutput(\n",
              "              (dense): Linear(in_features=768, out_features=768, bias=True)\n",
              "              (LayerNorm): LayerNorm((768,), eps=1e-12, elementwise_affine=True)\n",
              "              (dropout): Dropout(p=0.1, inplace=False)\n",
              "            )\n",
              "          )\n",
              "          (intermediate): BertIntermediate(\n",
              "            (dense): Linear(in_features=768, out_features=3072, bias=True)\n",
              "            (intermediate_act_fn): GELUActivation()\n",
              "          )\n",
              "          (output): BertOutput(\n",
              "            (dense): Linear(in_features=3072, out_features=768, bias=True)\n",
              "            (LayerNorm): LayerNorm((768,), eps=1e-12, elementwise_affine=True)\n",
              "            (dropout): Dropout(p=0.1, inplace=False)\n",
              "          )\n",
              "        )\n",
              "        (2): BertLayer(\n",
              "          (attention): BertAttention(\n",
              "            (self): BertSelfAttention(\n",
              "              (query): Linear(in_features=768, out_features=768, bias=True)\n",
              "              (key): Linear(in_features=768, out_features=768, bias=True)\n",
              "              (value): Linear(in_features=768, out_features=768, bias=True)\n",
              "              (dropout): Dropout(p=0.1, inplace=False)\n",
              "            )\n",
              "            (output): BertSelfOutput(\n",
              "              (dense): Linear(in_features=768, out_features=768, bias=True)\n",
              "              (LayerNorm): LayerNorm((768,), eps=1e-12, elementwise_affine=True)\n",
              "              (dropout): Dropout(p=0.1, inplace=False)\n",
              "            )\n",
              "          )\n",
              "          (intermediate): BertIntermediate(\n",
              "            (dense): Linear(in_features=768, out_features=3072, bias=True)\n",
              "            (intermediate_act_fn): GELUActivation()\n",
              "          )\n",
              "          (output): BertOutput(\n",
              "            (dense): Linear(in_features=3072, out_features=768, bias=True)\n",
              "            (LayerNorm): LayerNorm((768,), eps=1e-12, elementwise_affine=True)\n",
              "            (dropout): Dropout(p=0.1, inplace=False)\n",
              "          )\n",
              "        )\n",
              "        (3): BertLayer(\n",
              "          (attention): BertAttention(\n",
              "            (self): BertSelfAttention(\n",
              "              (query): Linear(in_features=768, out_features=768, bias=True)\n",
              "              (key): Linear(in_features=768, out_features=768, bias=True)\n",
              "              (value): Linear(in_features=768, out_features=768, bias=True)\n",
              "              (dropout): Dropout(p=0.1, inplace=False)\n",
              "            )\n",
              "            (output): BertSelfOutput(\n",
              "              (dense): Linear(in_features=768, out_features=768, bias=True)\n",
              "              (LayerNorm): LayerNorm((768,), eps=1e-12, elementwise_affine=True)\n",
              "              (dropout): Dropout(p=0.1, inplace=False)\n",
              "            )\n",
              "          )\n",
              "          (intermediate): BertIntermediate(\n",
              "            (dense): Linear(in_features=768, out_features=3072, bias=True)\n",
              "            (intermediate_act_fn): GELUActivation()\n",
              "          )\n",
              "          (output): BertOutput(\n",
              "            (dense): Linear(in_features=3072, out_features=768, bias=True)\n",
              "            (LayerNorm): LayerNorm((768,), eps=1e-12, elementwise_affine=True)\n",
              "            (dropout): Dropout(p=0.1, inplace=False)\n",
              "          )\n",
              "        )\n",
              "        (4): BertLayer(\n",
              "          (attention): BertAttention(\n",
              "            (self): BertSelfAttention(\n",
              "              (query): Linear(in_features=768, out_features=768, bias=True)\n",
              "              (key): Linear(in_features=768, out_features=768, bias=True)\n",
              "              (value): Linear(in_features=768, out_features=768, bias=True)\n",
              "              (dropout): Dropout(p=0.1, inplace=False)\n",
              "            )\n",
              "            (output): BertSelfOutput(\n",
              "              (dense): Linear(in_features=768, out_features=768, bias=True)\n",
              "              (LayerNorm): LayerNorm((768,), eps=1e-12, elementwise_affine=True)\n",
              "              (dropout): Dropout(p=0.1, inplace=False)\n",
              "            )\n",
              "          )\n",
              "          (intermediate): BertIntermediate(\n",
              "            (dense): Linear(in_features=768, out_features=3072, bias=True)\n",
              "            (intermediate_act_fn): GELUActivation()\n",
              "          )\n",
              "          (output): BertOutput(\n",
              "            (dense): Linear(in_features=3072, out_features=768, bias=True)\n",
              "            (LayerNorm): LayerNorm((768,), eps=1e-12, elementwise_affine=True)\n",
              "            (dropout): Dropout(p=0.1, inplace=False)\n",
              "          )\n",
              "        )\n",
              "        (5): BertLayer(\n",
              "          (attention): BertAttention(\n",
              "            (self): BertSelfAttention(\n",
              "              (query): Linear(in_features=768, out_features=768, bias=True)\n",
              "              (key): Linear(in_features=768, out_features=768, bias=True)\n",
              "              (value): Linear(in_features=768, out_features=768, bias=True)\n",
              "              (dropout): Dropout(p=0.1, inplace=False)\n",
              "            )\n",
              "            (output): BertSelfOutput(\n",
              "              (dense): Linear(in_features=768, out_features=768, bias=True)\n",
              "              (LayerNorm): LayerNorm((768,), eps=1e-12, elementwise_affine=True)\n",
              "              (dropout): Dropout(p=0.1, inplace=False)\n",
              "            )\n",
              "          )\n",
              "          (intermediate): BertIntermediate(\n",
              "            (dense): Linear(in_features=768, out_features=3072, bias=True)\n",
              "            (intermediate_act_fn): GELUActivation()\n",
              "          )\n",
              "          (output): BertOutput(\n",
              "            (dense): Linear(in_features=3072, out_features=768, bias=True)\n",
              "            (LayerNorm): LayerNorm((768,), eps=1e-12, elementwise_affine=True)\n",
              "            (dropout): Dropout(p=0.1, inplace=False)\n",
              "          )\n",
              "        )\n",
              "        (6): BertLayer(\n",
              "          (attention): BertAttention(\n",
              "            (self): BertSelfAttention(\n",
              "              (query): Linear(in_features=768, out_features=768, bias=True)\n",
              "              (key): Linear(in_features=768, out_features=768, bias=True)\n",
              "              (value): Linear(in_features=768, out_features=768, bias=True)\n",
              "              (dropout): Dropout(p=0.1, inplace=False)\n",
              "            )\n",
              "            (output): BertSelfOutput(\n",
              "              (dense): Linear(in_features=768, out_features=768, bias=True)\n",
              "              (LayerNorm): LayerNorm((768,), eps=1e-12, elementwise_affine=True)\n",
              "              (dropout): Dropout(p=0.1, inplace=False)\n",
              "            )\n",
              "          )\n",
              "          (intermediate): BertIntermediate(\n",
              "            (dense): Linear(in_features=768, out_features=3072, bias=True)\n",
              "            (intermediate_act_fn): GELUActivation()\n",
              "          )\n",
              "          (output): BertOutput(\n",
              "            (dense): Linear(in_features=3072, out_features=768, bias=True)\n",
              "            (LayerNorm): LayerNorm((768,), eps=1e-12, elementwise_affine=True)\n",
              "            (dropout): Dropout(p=0.1, inplace=False)\n",
              "          )\n",
              "        )\n",
              "        (7): BertLayer(\n",
              "          (attention): BertAttention(\n",
              "            (self): BertSelfAttention(\n",
              "              (query): Linear(in_features=768, out_features=768, bias=True)\n",
              "              (key): Linear(in_features=768, out_features=768, bias=True)\n",
              "              (value): Linear(in_features=768, out_features=768, bias=True)\n",
              "              (dropout): Dropout(p=0.1, inplace=False)\n",
              "            )\n",
              "            (output): BertSelfOutput(\n",
              "              (dense): Linear(in_features=768, out_features=768, bias=True)\n",
              "              (LayerNorm): LayerNorm((768,), eps=1e-12, elementwise_affine=True)\n",
              "              (dropout): Dropout(p=0.1, inplace=False)\n",
              "            )\n",
              "          )\n",
              "          (intermediate): BertIntermediate(\n",
              "            (dense): Linear(in_features=768, out_features=3072, bias=True)\n",
              "            (intermediate_act_fn): GELUActivation()\n",
              "          )\n",
              "          (output): BertOutput(\n",
              "            (dense): Linear(in_features=3072, out_features=768, bias=True)\n",
              "            (LayerNorm): LayerNorm((768,), eps=1e-12, elementwise_affine=True)\n",
              "            (dropout): Dropout(p=0.1, inplace=False)\n",
              "          )\n",
              "        )\n",
              "        (8): BertLayer(\n",
              "          (attention): BertAttention(\n",
              "            (self): BertSelfAttention(\n",
              "              (query): Linear(in_features=768, out_features=768, bias=True)\n",
              "              (key): Linear(in_features=768, out_features=768, bias=True)\n",
              "              (value): Linear(in_features=768, out_features=768, bias=True)\n",
              "              (dropout): Dropout(p=0.1, inplace=False)\n",
              "            )\n",
              "            (output): BertSelfOutput(\n",
              "              (dense): Linear(in_features=768, out_features=768, bias=True)\n",
              "              (LayerNorm): LayerNorm((768,), eps=1e-12, elementwise_affine=True)\n",
              "              (dropout): Dropout(p=0.1, inplace=False)\n",
              "            )\n",
              "          )\n",
              "          (intermediate): BertIntermediate(\n",
              "            (dense): Linear(in_features=768, out_features=3072, bias=True)\n",
              "            (intermediate_act_fn): GELUActivation()\n",
              "          )\n",
              "          (output): BertOutput(\n",
              "            (dense): Linear(in_features=3072, out_features=768, bias=True)\n",
              "            (LayerNorm): LayerNorm((768,), eps=1e-12, elementwise_affine=True)\n",
              "            (dropout): Dropout(p=0.1, inplace=False)\n",
              "          )\n",
              "        )\n",
              "        (9): BertLayer(\n",
              "          (attention): BertAttention(\n",
              "            (self): BertSelfAttention(\n",
              "              (query): Linear(in_features=768, out_features=768, bias=True)\n",
              "              (key): Linear(in_features=768, out_features=768, bias=True)\n",
              "              (value): Linear(in_features=768, out_features=768, bias=True)\n",
              "              (dropout): Dropout(p=0.1, inplace=False)\n",
              "            )\n",
              "            (output): BertSelfOutput(\n",
              "              (dense): Linear(in_features=768, out_features=768, bias=True)\n",
              "              (LayerNorm): LayerNorm((768,), eps=1e-12, elementwise_affine=True)\n",
              "              (dropout): Dropout(p=0.1, inplace=False)\n",
              "            )\n",
              "          )\n",
              "          (intermediate): BertIntermediate(\n",
              "            (dense): Linear(in_features=768, out_features=3072, bias=True)\n",
              "            (intermediate_act_fn): GELUActivation()\n",
              "          )\n",
              "          (output): BertOutput(\n",
              "            (dense): Linear(in_features=3072, out_features=768, bias=True)\n",
              "            (LayerNorm): LayerNorm((768,), eps=1e-12, elementwise_affine=True)\n",
              "            (dropout): Dropout(p=0.1, inplace=False)\n",
              "          )\n",
              "        )\n",
              "        (10): BertLayer(\n",
              "          (attention): BertAttention(\n",
              "            (self): BertSelfAttention(\n",
              "              (query): Linear(in_features=768, out_features=768, bias=True)\n",
              "              (key): Linear(in_features=768, out_features=768, bias=True)\n",
              "              (value): Linear(in_features=768, out_features=768, bias=True)\n",
              "              (dropout): Dropout(p=0.1, inplace=False)\n",
              "            )\n",
              "            (output): BertSelfOutput(\n",
              "              (dense): Linear(in_features=768, out_features=768, bias=True)\n",
              "              (LayerNorm): LayerNorm((768,), eps=1e-12, elementwise_affine=True)\n",
              "              (dropout): Dropout(p=0.1, inplace=False)\n",
              "            )\n",
              "          )\n",
              "          (intermediate): BertIntermediate(\n",
              "            (dense): Linear(in_features=768, out_features=3072, bias=True)\n",
              "            (intermediate_act_fn): GELUActivation()\n",
              "          )\n",
              "          (output): BertOutput(\n",
              "            (dense): Linear(in_features=3072, out_features=768, bias=True)\n",
              "            (LayerNorm): LayerNorm((768,), eps=1e-12, elementwise_affine=True)\n",
              "            (dropout): Dropout(p=0.1, inplace=False)\n",
              "          )\n",
              "        )\n",
              "        (11): BertLayer(\n",
              "          (attention): BertAttention(\n",
              "            (self): BertSelfAttention(\n",
              "              (query): Linear(in_features=768, out_features=768, bias=True)\n",
              "              (key): Linear(in_features=768, out_features=768, bias=True)\n",
              "              (value): Linear(in_features=768, out_features=768, bias=True)\n",
              "              (dropout): Dropout(p=0.1, inplace=False)\n",
              "            )\n",
              "            (output): BertSelfOutput(\n",
              "              (dense): Linear(in_features=768, out_features=768, bias=True)\n",
              "              (LayerNorm): LayerNorm((768,), eps=1e-12, elementwise_affine=True)\n",
              "              (dropout): Dropout(p=0.1, inplace=False)\n",
              "            )\n",
              "          )\n",
              "          (intermediate): BertIntermediate(\n",
              "            (dense): Linear(in_features=768, out_features=3072, bias=True)\n",
              "            (intermediate_act_fn): GELUActivation()\n",
              "          )\n",
              "          (output): BertOutput(\n",
              "            (dense): Linear(in_features=3072, out_features=768, bias=True)\n",
              "            (LayerNorm): LayerNorm((768,), eps=1e-12, elementwise_affine=True)\n",
              "            (dropout): Dropout(p=0.1, inplace=False)\n",
              "          )\n",
              "        )\n",
              "      )\n",
              "    )\n",
              "    (pooler): BertPooler(\n",
              "      (dense): Linear(in_features=768, out_features=768, bias=True)\n",
              "      (activation): Tanh()\n",
              "    )\n",
              "  )\n",
              "  (dropout): Dropout(p=0.1, inplace=False)\n",
              "  (classifier): Linear(in_features=768, out_features=2, bias=True)\n",
              ")"
            ]
          },
          "metadata": {},
          "execution_count": 260
        }
      ]
    },
    {
      "cell_type": "code",
      "source": [
        "#Checks for dict weight\n",
        "state_dict = model.state_dict()\n",
        "state_dict[\"bert.embeddings.word_embeddings.weight\"]"
      ],
      "metadata": {
        "colab": {
          "base_uri": "https://localhost:8080/"
        },
        "id": "GWLqOd0B7cMB",
        "outputId": "3a22c9d0-6c3c-47d5-97e3-6b71899135b9"
      },
      "execution_count": 261,
      "outputs": [
        {
          "output_type": "execute_result",
          "data": {
            "text/plain": [
              "tensor([[-0.0102, -0.0615, -0.0265,  ..., -0.0199, -0.0372, -0.0098],\n",
              "        [-0.0117, -0.0600, -0.0323,  ..., -0.0168, -0.0401, -0.0107],\n",
              "        [-0.0198, -0.0627, -0.0326,  ..., -0.0165, -0.0420, -0.0032],\n",
              "        ...,\n",
              "        [-0.0218, -0.0556, -0.0135,  ..., -0.0043, -0.0151, -0.0249],\n",
              "        [-0.0462, -0.0565, -0.0019,  ...,  0.0157, -0.0139, -0.0095],\n",
              "        [ 0.0015, -0.0821, -0.0160,  ..., -0.0081, -0.0475,  0.0753]])"
            ]
          },
          "metadata": {},
          "execution_count": 261
        }
      ]
    },
    {
      "cell_type": "code",
      "source": [
        "def _single_test(pair):\n",
        "    result = tokenizer([pair], return_tensors=\"pt\")\n",
        "    result.to(device)\n",
        "    model.eval()\n",
        "    outputs = model(**result)\n",
        "    #print(\"Output Dictionary Keys:\\n\", outputs.keys(),end='\\n\\n')\n",
        "    #print(\"Sequence Logits:\\n\",outputs,end='\\n\\n')\n",
        "    predictions = outputs.logits.argmax(dim=-1)\n",
        "    #print('Preditions:\\n',predictions,end='\\n\\n')\n",
        "    if predictions==0:\n",
        "        print('True')\n",
        "    else:\n",
        "        print('False')\n",
        "    torch.cuda.empty_cache()"
      ],
      "metadata": {
        "id": "FcpZIXVI7efj"
      },
      "execution_count": 262,
      "outputs": []
    },
    {
      "cell_type": "code",
      "source": [
        "sentence = \"Does it offer happy hours?\"\n",
        "body = \"It does not allow children below 6.\"\n",
        "pair = (sentence, body)\n",
        "_single_test(pair)"
      ],
      "metadata": {
        "colab": {
          "base_uri": "https://localhost:8080/"
        },
        "id": "j4vrhZRz7hiF",
        "outputId": "1cac297a-7821-432d-a6d4-c79460ca8eaa"
      },
      "execution_count": 266,
      "outputs": [
        {
          "output_type": "stream",
          "name": "stdout",
          "text": [
            "False\n"
          ]
        }
      ]
    },
    {
      "cell_type": "code",
      "source": [
        "sentence = \"Does it offer a gym?\"\n",
        "body = \" No, it does not have happy hours.\"\n",
        "pair = (sentence, body)\n",
        "_single_test(pair)"
      ],
      "metadata": {
        "colab": {
          "base_uri": "https://localhost:8080/"
        },
        "id": "KrKq3wqX8XL7",
        "outputId": "882fd5e2-7bb7-48fb-c008-ea4bfbb400bc"
      },
      "execution_count": 267,
      "outputs": [
        {
          "output_type": "stream",
          "name": "stdout",
          "text": [
            "False\n"
          ]
        }
      ]
    },
    {
      "cell_type": "code",
      "source": [
        "sentence = \"Does it offer a gym on site?\"\n",
        "body = \" No, it does not have happy hours.\"\n",
        "pair = (sentence, body)\n",
        "_single_test(pair)"
      ],
      "metadata": {
        "colab": {
          "base_uri": "https://localhost:8080/"
        },
        "id": "Y-i9eSFX8Xvk",
        "outputId": "c52501f3-56ec-4209-9370-0173d29566e7"
      },
      "execution_count": 268,
      "outputs": [
        {
          "output_type": "stream",
          "name": "stdout",
          "text": [
            "False\n"
          ]
        }
      ]
    },
    {
      "cell_type": "code",
      "source": [
        "sentence = \"Is there a gym?\"\n",
        "body = \"No, it does not have happy hours.\"\n",
        "pair = (sentence, body)\n",
        "_single_test(pair)"
      ],
      "metadata": {
        "colab": {
          "base_uri": "https://localhost:8080/"
        },
        "id": "utbGewQ-8YMc",
        "outputId": "a787c346-c8bb-453a-9cd7-e4c363fe2613"
      },
      "execution_count": 270,
      "outputs": [
        {
          "output_type": "stream",
          "name": "stdout",
          "text": [
            "False\n"
          ]
        }
      ]
    },
    {
      "cell_type": "code",
      "source": [
        "sentence = \"Is there a gym?\"\n",
        "body = \"Yes, there is a gym.\"\n",
        "pair = (sentence, body)\n",
        "_single_test(pair)"
      ],
      "metadata": {
        "colab": {
          "base_uri": "https://localhost:8080/"
        },
        "id": "-GsorlSu8zoq",
        "outputId": "d38d3910-d395-41a2-8e98-222db83191f3"
      },
      "execution_count": 271,
      "outputs": [
        {
          "output_type": "stream",
          "name": "stdout",
          "text": [
            "True\n"
          ]
        }
      ]
    },
    {
      "cell_type": "markdown",
      "source": [
        "## This is the end of the document. For more information see the paper."
      ],
      "metadata": {
        "id": "F3z3Nstt7RW1"
      }
    }
  ]
}